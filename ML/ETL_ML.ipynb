{
 "cells": [
  {
   "cell_type": "code",
   "execution_count": 41,
   "metadata": {},
   "outputs": [],
   "source": [
    "import pandas as pd\n",
    "import pyarrow as pa\n",
    "import pyarrow.parquet as pq"
   ]
  },
  {
   "cell_type": "code",
   "execution_count": 42,
   "metadata": {},
   "outputs": [],
   "source": [
    "metadata = pd.read_csv('datasets/raw/metadata-sitios.csv')"
   ]
  },
  {
   "cell_type": "code",
   "execution_count": 43,
   "metadata": {},
   "outputs": [],
   "source": [
    "# Contabilizar numero de filas duplicadas tanto para 'name' como 'adress'\n",
    "numero_filas_duplicadas = metadata.duplicated(['name', 'address']).sum()"
   ]
  },
  {
   "cell_type": "code",
   "execution_count": 44,
   "metadata": {},
   "outputs": [],
   "source": [
    "# Eliminar filas duplicadas tanto para 'name' como 'adress'\n",
    "metadata = metadata.drop_duplicates(['name', 'address'])"
   ]
  },
  {
   "cell_type": "code",
   "execution_count": 45,
   "metadata": {},
   "outputs": [
    {
     "data": {
      "text/plain": [
       "name                  5\n",
       "address               0\n",
       "gmap_id               0\n",
       "latitude              0\n",
       "longitude             0\n",
       "category           1368\n",
       "avg_rating            0\n",
       "num_of_reviews        0\n",
       "hours             49366\n",
       "url                   0\n",
       "dtype: int64"
      ]
     },
     "execution_count": 45,
     "metadata": {},
     "output_type": "execute_result"
    }
   ],
   "source": [
    "# Contabilizar filas nulas\n",
    "cantidad_filas_nulas = metadata.isnull().sum()\n",
    "cantidad_filas_nulas"
   ]
  },
  {
   "cell_type": "code",
   "execution_count": 46,
   "metadata": {},
   "outputs": [],
   "source": [
    "# Filtrar columnas deseadas\n",
    "metadata = metadata[['name', 'address', 'gmap_id', 'latitude', 'longitude','category', 'avg_rating', 'num_of_reviews', 'hours', 'url']]"
   ]
  },
  {
   "cell_type": "code",
   "execution_count": 47,
   "metadata": {},
   "outputs": [],
   "source": [
    "# Elimnar nulos para la columna 'category'\n",
    "metadata = metadata.dropna(subset=['category'])"
   ]
  },
  {
   "cell_type": "code",
   "execution_count": 48,
   "metadata": {},
   "outputs": [
    {
     "data": {
      "text/plain": [
       "category\n",
       "20     11187\n",
       "15     10863\n",
       "14     10692\n",
       "16      8469\n",
       "22      7510\n",
       "       ...  \n",
       "310        1\n",
       "320        1\n",
       "281        1\n",
       "289        1\n",
       "271        1\n",
       "Name: count, Length: 289, dtype: int64"
      ]
     },
     "execution_count": 48,
     "metadata": {},
     "output_type": "execute_result"
    }
   ],
   "source": [
    "lengths = metadata['category'].apply(lambda x: len(x))\n",
    "conteo = lengths.value_counts()\n",
    "conteo"
   ]
  },
  {
   "cell_type": "code",
   "execution_count": 49,
   "metadata": {},
   "outputs": [
    {
     "data": {
      "text/html": [
       "<div>\n",
       "<style scoped>\n",
       "    .dataframe tbody tr th:only-of-type {\n",
       "        vertical-align: middle;\n",
       "    }\n",
       "\n",
       "    .dataframe tbody tr th {\n",
       "        vertical-align: top;\n",
       "    }\n",
       "\n",
       "    .dataframe thead th {\n",
       "        text-align: right;\n",
       "    }\n",
       "</style>\n",
       "<table border=\"1\" class=\"dataframe\">\n",
       "  <thead>\n",
       "    <tr style=\"text-align: right;\">\n",
       "      <th></th>\n",
       "      <th>name</th>\n",
       "      <th>address</th>\n",
       "      <th>gmap_id</th>\n",
       "      <th>latitude</th>\n",
       "      <th>longitude</th>\n",
       "      <th>category</th>\n",
       "      <th>avg_rating</th>\n",
       "      <th>num_of_reviews</th>\n",
       "      <th>hours</th>\n",
       "      <th>url</th>\n",
       "    </tr>\n",
       "  </thead>\n",
       "  <tbody>\n",
       "    <tr>\n",
       "      <th>0</th>\n",
       "      <td>NTK OUTDOOR</td>\n",
       "      <td>NTK OUTDOOR, 2315 NW 107th Ave #1B18, Miami, F...</td>\n",
       "      <td>0x88d9beb4fe0532c1:0xef0555c169299d6</td>\n",
       "      <td>25.795204</td>\n",
       "      <td>-80.366038</td>\n",
       "      <td>['Corporate office']</td>\n",
       "      <td>5.0</td>\n",
       "      <td>35</td>\n",
       "      <td>[['Thursday', '9AM–6PM'], ['Friday', '9AM–6PM'...</td>\n",
       "      <td>https://www.google.com/maps/place//data=!4m2!3...</td>\n",
       "    </tr>\n",
       "    <tr>\n",
       "      <th>1</th>\n",
       "      <td>Cruises Inc. - Connie Stewart</td>\n",
       "      <td>Cruises Inc. - Connie Stewart, 6602 52nd Ln, P...</td>\n",
       "      <td>0x88c2e49b79f06c31:0x4ed8c8ce27e926e0</td>\n",
       "      <td>27.832187</td>\n",
       "      <td>-82.704805</td>\n",
       "      <td>['Cruise agency']</td>\n",
       "      <td>5.0</td>\n",
       "      <td>2</td>\n",
       "      <td>[['Thursday', '9AM–5PM'], ['Friday', '9AM–5PM'...</td>\n",
       "      <td>https://www.google.com/maps/place//data=!4m2!3...</td>\n",
       "    </tr>\n",
       "    <tr>\n",
       "      <th>3</th>\n",
       "      <td>First Impressions Barbershop Inc.</td>\n",
       "      <td>First Impressions Barbershop Inc., 577 Deltona...</td>\n",
       "      <td>0x88e711bd2244fe3b:0x8406dd780f0574d1</td>\n",
       "      <td>28.877581</td>\n",
       "      <td>-81.281276</td>\n",
       "      <td>['Barber shop']</td>\n",
       "      <td>4.0</td>\n",
       "      <td>8</td>\n",
       "      <td>[['Thursday', '8AM–8PM'], ['Friday', '8AM–8PM'...</td>\n",
       "      <td>https://www.google.com/maps/place//data=!4m2!3...</td>\n",
       "    </tr>\n",
       "    <tr>\n",
       "      <th>4</th>\n",
       "      <td>Brian Shaheen, MD</td>\n",
       "      <td>Brian Shaheen, MD, 2421 Thomas Dr, Panama City...</td>\n",
       "      <td>0x8893863ea87bd5dd:0x9383ebf973e74abb</td>\n",
       "      <td>30.159982</td>\n",
       "      <td>-85.752277</td>\n",
       "      <td>['Family practice physician', 'General practit...</td>\n",
       "      <td>4.2</td>\n",
       "      <td>18</td>\n",
       "      <td>[['Thursday', '8AM–5PM'], ['Friday', '8AM–5PM'...</td>\n",
       "      <td>https://www.google.com/maps/place//data=!4m2!3...</td>\n",
       "    </tr>\n",
       "    <tr>\n",
       "      <th>5</th>\n",
       "      <td>Cape Seafood Shack</td>\n",
       "      <td>Cape Seafood Shack, 603 Del Prado Blvd S, Cape...</td>\n",
       "      <td>0x88db4147b1d9e6f3:0x943dbd10a92ba1b1</td>\n",
       "      <td>26.641377</td>\n",
       "      <td>-81.940545</td>\n",
       "      <td>['Restaurant']</td>\n",
       "      <td>5.0</td>\n",
       "      <td>1</td>\n",
       "      <td>NaN</td>\n",
       "      <td>https://www.google.com/maps/place//data=!4m2!3...</td>\n",
       "    </tr>\n",
       "  </tbody>\n",
       "</table>\n",
       "</div>"
      ],
      "text/plain": [
       "                                name  \\\n",
       "0                        NTK OUTDOOR   \n",
       "1      Cruises Inc. - Connie Stewart   \n",
       "3  First Impressions Barbershop Inc.   \n",
       "4                  Brian Shaheen, MD   \n",
       "5                 Cape Seafood Shack   \n",
       "\n",
       "                                             address  \\\n",
       "0  NTK OUTDOOR, 2315 NW 107th Ave #1B18, Miami, F...   \n",
       "1  Cruises Inc. - Connie Stewart, 6602 52nd Ln, P...   \n",
       "3  First Impressions Barbershop Inc., 577 Deltona...   \n",
       "4  Brian Shaheen, MD, 2421 Thomas Dr, Panama City...   \n",
       "5  Cape Seafood Shack, 603 Del Prado Blvd S, Cape...   \n",
       "\n",
       "                                 gmap_id   latitude  longitude  \\\n",
       "0   0x88d9beb4fe0532c1:0xef0555c169299d6  25.795204 -80.366038   \n",
       "1  0x88c2e49b79f06c31:0x4ed8c8ce27e926e0  27.832187 -82.704805   \n",
       "3  0x88e711bd2244fe3b:0x8406dd780f0574d1  28.877581 -81.281276   \n",
       "4  0x8893863ea87bd5dd:0x9383ebf973e74abb  30.159982 -85.752277   \n",
       "5  0x88db4147b1d9e6f3:0x943dbd10a92ba1b1  26.641377 -81.940545   \n",
       "\n",
       "                                            category  avg_rating  \\\n",
       "0                               ['Corporate office']         5.0   \n",
       "1                                  ['Cruise agency']         5.0   \n",
       "3                                    ['Barber shop']         4.0   \n",
       "4  ['Family practice physician', 'General practit...         4.2   \n",
       "5                                     ['Restaurant']         5.0   \n",
       "\n",
       "   num_of_reviews                                              hours  \\\n",
       "0              35  [['Thursday', '9AM–6PM'], ['Friday', '9AM–6PM'...   \n",
       "1               2  [['Thursday', '9AM–5PM'], ['Friday', '9AM–5PM'...   \n",
       "3               8  [['Thursday', '8AM–8PM'], ['Friday', '8AM–8PM'...   \n",
       "4              18  [['Thursday', '8AM–5PM'], ['Friday', '8AM–5PM'...   \n",
       "5               1                                                NaN   \n",
       "\n",
       "                                                 url  \n",
       "0  https://www.google.com/maps/place//data=!4m2!3...  \n",
       "1  https://www.google.com/maps/place//data=!4m2!3...  \n",
       "3  https://www.google.com/maps/place//data=!4m2!3...  \n",
       "4  https://www.google.com/maps/place//data=!4m2!3...  \n",
       "5  https://www.google.com/maps/place//data=!4m2!3...  "
      ]
     },
     "execution_count": 49,
     "metadata": {},
     "output_type": "execute_result"
    }
   ],
   "source": [
    "metadata.head()"
   ]
  },
  {
   "cell_type": "code",
   "execution_count": 50,
   "metadata": {},
   "outputs": [
    {
     "data": {
      "text/html": [
       "<div>\n",
       "<style scoped>\n",
       "    .dataframe tbody tr th:only-of-type {\n",
       "        vertical-align: middle;\n",
       "    }\n",
       "\n",
       "    .dataframe tbody tr th {\n",
       "        vertical-align: top;\n",
       "    }\n",
       "\n",
       "    .dataframe thead th {\n",
       "        text-align: right;\n",
       "    }\n",
       "</style>\n",
       "<table border=\"1\" class=\"dataframe\">\n",
       "  <thead>\n",
       "    <tr style=\"text-align: right;\">\n",
       "      <th></th>\n",
       "      <th>name</th>\n",
       "      <th>address</th>\n",
       "      <th>gmap_id</th>\n",
       "      <th>latitude</th>\n",
       "      <th>longitude</th>\n",
       "      <th>category</th>\n",
       "      <th>avg_rating</th>\n",
       "      <th>num_of_reviews</th>\n",
       "      <th>hours</th>\n",
       "      <th>url</th>\n",
       "    </tr>\n",
       "  </thead>\n",
       "  <tbody>\n",
       "    <tr>\n",
       "      <th>0</th>\n",
       "      <td>NTK OUTDOOR</td>\n",
       "      <td>2315 NW 107th Ave #1B18, Miami, FL 33172</td>\n",
       "      <td>0x88d9beb4fe0532c1:0xef0555c169299d6</td>\n",
       "      <td>25.795204</td>\n",
       "      <td>-80.366038</td>\n",
       "      <td>['Corporate office']</td>\n",
       "      <td>5.0</td>\n",
       "      <td>35</td>\n",
       "      <td>[['Thursday', '9AM–6PM'], ['Friday', '9AM–6PM'...</td>\n",
       "      <td>https://www.google.com/maps/place//data=!4m2!3...</td>\n",
       "    </tr>\n",
       "    <tr>\n",
       "      <th>1</th>\n",
       "      <td>Cruises Inc. - Connie Stewart</td>\n",
       "      <td>6602 52nd Ln, Pinellas Park, FL 33781</td>\n",
       "      <td>0x88c2e49b79f06c31:0x4ed8c8ce27e926e0</td>\n",
       "      <td>27.832187</td>\n",
       "      <td>-82.704805</td>\n",
       "      <td>['Cruise agency']</td>\n",
       "      <td>5.0</td>\n",
       "      <td>2</td>\n",
       "      <td>[['Thursday', '9AM–5PM'], ['Friday', '9AM–5PM'...</td>\n",
       "      <td>https://www.google.com/maps/place//data=!4m2!3...</td>\n",
       "    </tr>\n",
       "    <tr>\n",
       "      <th>3</th>\n",
       "      <td>First Impressions Barbershop Inc.</td>\n",
       "      <td>577 Deltona Blvd suite #9, Deltona, FL 32725</td>\n",
       "      <td>0x88e711bd2244fe3b:0x8406dd780f0574d1</td>\n",
       "      <td>28.877581</td>\n",
       "      <td>-81.281276</td>\n",
       "      <td>['Barber shop']</td>\n",
       "      <td>4.0</td>\n",
       "      <td>8</td>\n",
       "      <td>[['Thursday', '8AM–8PM'], ['Friday', '8AM–8PM'...</td>\n",
       "      <td>https://www.google.com/maps/place//data=!4m2!3...</td>\n",
       "    </tr>\n",
       "    <tr>\n",
       "      <th>4</th>\n",
       "      <td>Brian Shaheen, MD</td>\n",
       "      <td>2421 Thomas Dr, Panama City, FL 32408</td>\n",
       "      <td>0x8893863ea87bd5dd:0x9383ebf973e74abb</td>\n",
       "      <td>30.159982</td>\n",
       "      <td>-85.752277</td>\n",
       "      <td>['Family practice physician', 'General practit...</td>\n",
       "      <td>4.2</td>\n",
       "      <td>18</td>\n",
       "      <td>[['Thursday', '8AM–5PM'], ['Friday', '8AM–5PM'...</td>\n",
       "      <td>https://www.google.com/maps/place//data=!4m2!3...</td>\n",
       "    </tr>\n",
       "    <tr>\n",
       "      <th>5</th>\n",
       "      <td>Cape Seafood Shack</td>\n",
       "      <td>603 Del Prado Blvd S, Cape Coral, FL 33990</td>\n",
       "      <td>0x88db4147b1d9e6f3:0x943dbd10a92ba1b1</td>\n",
       "      <td>26.641377</td>\n",
       "      <td>-81.940545</td>\n",
       "      <td>['Restaurant']</td>\n",
       "      <td>5.0</td>\n",
       "      <td>1</td>\n",
       "      <td>NaN</td>\n",
       "      <td>https://www.google.com/maps/place//data=!4m2!3...</td>\n",
       "    </tr>\n",
       "  </tbody>\n",
       "</table>\n",
       "</div>"
      ],
      "text/plain": [
       "                                name  \\\n",
       "0                        NTK OUTDOOR   \n",
       "1      Cruises Inc. - Connie Stewart   \n",
       "3  First Impressions Barbershop Inc.   \n",
       "4                  Brian Shaheen, MD   \n",
       "5                 Cape Seafood Shack   \n",
       "\n",
       "                                        address  \\\n",
       "0      2315 NW 107th Ave #1B18, Miami, FL 33172   \n",
       "1         6602 52nd Ln, Pinellas Park, FL 33781   \n",
       "3  577 Deltona Blvd suite #9, Deltona, FL 32725   \n",
       "4         2421 Thomas Dr, Panama City, FL 32408   \n",
       "5    603 Del Prado Blvd S, Cape Coral, FL 33990   \n",
       "\n",
       "                                 gmap_id   latitude  longitude  \\\n",
       "0   0x88d9beb4fe0532c1:0xef0555c169299d6  25.795204 -80.366038   \n",
       "1  0x88c2e49b79f06c31:0x4ed8c8ce27e926e0  27.832187 -82.704805   \n",
       "3  0x88e711bd2244fe3b:0x8406dd780f0574d1  28.877581 -81.281276   \n",
       "4  0x8893863ea87bd5dd:0x9383ebf973e74abb  30.159982 -85.752277   \n",
       "5  0x88db4147b1d9e6f3:0x943dbd10a92ba1b1  26.641377 -81.940545   \n",
       "\n",
       "                                            category  avg_rating  \\\n",
       "0                               ['Corporate office']         5.0   \n",
       "1                                  ['Cruise agency']         5.0   \n",
       "3                                    ['Barber shop']         4.0   \n",
       "4  ['Family practice physician', 'General practit...         4.2   \n",
       "5                                     ['Restaurant']         5.0   \n",
       "\n",
       "   num_of_reviews                                              hours  \\\n",
       "0              35  [['Thursday', '9AM–6PM'], ['Friday', '9AM–6PM'...   \n",
       "1               2  [['Thursday', '9AM–5PM'], ['Friday', '9AM–5PM'...   \n",
       "3               8  [['Thursday', '8AM–8PM'], ['Friday', '8AM–8PM'...   \n",
       "4              18  [['Thursday', '8AM–5PM'], ['Friday', '8AM–5PM'...   \n",
       "5               1                                                NaN   \n",
       "\n",
       "                                                 url  \n",
       "0  https://www.google.com/maps/place//data=!4m2!3...  \n",
       "1  https://www.google.com/maps/place//data=!4m2!3...  \n",
       "3  https://www.google.com/maps/place//data=!4m2!3...  \n",
       "4  https://www.google.com/maps/place//data=!4m2!3...  \n",
       "5  https://www.google.com/maps/place//data=!4m2!3...  "
      ]
     },
     "execution_count": 50,
     "metadata": {},
     "output_type": "execute_result"
    }
   ],
   "source": [
    "def extraer_nombre_y_direccion(address, name):\n",
    "    import re\n",
    "    # Verificar si address o name es NaN\n",
    "    if pd.isna(address) or pd.isna(name):\n",
    "        return None\n",
    "    \n",
    "    # Escapar caracteres especiales en el nombre\n",
    "    escaped_name = re.escape(name)\n",
    "    \n",
    "    # Utilizamos expresiones regulares para encontrar el nombre seguido de una coma y un espacio en la dirección\n",
    "    match = re.search(rf\"\\b{escaped_name}, \\b\", address)\n",
    "    if match:\n",
    "        # Si se encuentra el nombre seguido de una coma y un espacio en la dirección, extraemos la parte de la dirección después de eso\n",
    "        parte_direccion = address[match.end():].strip()\n",
    "        # Devolvemos la parte de la dirección después del nombre y la coma seguida de un espacio\n",
    "        return parte_direccion\n",
    "    \n",
    "# Aplicar la funcion a la columna address corrigiendo los valores existentes\n",
    "metadata['address'] = metadata.apply(lambda x: extraer_nombre_y_direccion(x['address'], x['name']), axis=1)\n",
    "\n",
    "# Visualizar resultado\n",
    "metadata.head()"
   ]
  },
  {
   "cell_type": "code",
   "execution_count": 51,
   "metadata": {},
   "outputs": [],
   "source": [
    "# Eliminamos el campo 'pais' de address ya que solo trabajamos con Estados Unidos\n",
    "metadata['address'] = metadata['address'].str.replace(', United States', '').str.strip()"
   ]
  },
  {
   "cell_type": "code",
   "execution_count": 52,
   "metadata": {},
   "outputs": [],
   "source": [
    "# Dividir la cadena de dirección en partes utilizando la coma como delimitador\n",
    "address_parts = metadata['address'].str.rsplit(', ', n=2, expand=True)\n",
    "\n",
    "# Asignar las partes a las columnas correspondientes\n",
    "metadata['address'] = address_parts[0]\n",
    "metadata['city'] = address_parts[1]\n",
    "metadata['state'] = address_parts[2]\n",
    "\n",
    "# Dividir la cadena de dirección en partes utilizando la coma como delimitador\n",
    "state_parts = metadata['state'].str.split(' ', expand=True)\n",
    "\n",
    "# Asignar las partes a las columnas correspondientes\n",
    "metadata['state'] = state_parts[0]\n",
    "metadata['postal_code'] = state_parts[1]"
   ]
  },
  {
   "cell_type": "code",
   "execution_count": 53,
   "metadata": {},
   "outputs": [],
   "source": [
    "# Renombrar columna 'avg_rating' a 'stars'\n",
    "metadata.rename(columns={'avg_rating': 'stars'}, inplace=True)\n",
    "\n",
    "# Renombrar columna 'num_of_reviews' a 'review_count'\n",
    "metadata.rename(columns={'num_of_reviews': 'review_count'}, inplace=True)\n",
    "\n",
    "# Reordenar columnas\n",
    "metadata = metadata[['gmap_id','name', 'address','city','state','category', 'postal_code','latitude','longitude','stars','review_count','hours','url']]"
   ]
  },
  {
   "cell_type": "code",
   "execution_count": 54,
   "metadata": {},
   "outputs": [],
   "source": [
    "# Convertir valores a float\n",
    "metadata['latitude'] = metadata['latitude'].astype(float)\n",
    "metadata['longitude'] = metadata['longitude'].astype(float)\n",
    "metadata['stars'] = metadata['stars'].astype(float)"
   ]
  },
  {
   "cell_type": "code",
   "execution_count": 55,
   "metadata": {},
   "outputs": [],
   "source": [
    "# Filtrar las filas donde el estado es Florida\n",
    "metadata = metadata.loc[metadata['state'] == 'FL']"
   ]
  },
  {
   "cell_type": "code",
   "execution_count": 56,
   "metadata": {},
   "outputs": [
    {
     "name": "stdout",
     "output_type": "stream",
     "text": [
      "<class 'pandas.core.frame.DataFrame'>\n",
      "Index: 207866 entries, 0 to 215615\n",
      "Data columns (total 13 columns):\n",
      " #   Column        Non-Null Count   Dtype  \n",
      "---  ------        --------------   -----  \n",
      " 0   gmap_id       207866 non-null  object \n",
      " 1   name          207866 non-null  object \n",
      " 2   address       207866 non-null  object \n",
      " 3   city          207866 non-null  object \n",
      " 4   state         207866 non-null  object \n",
      " 5   category      207866 non-null  object \n",
      " 6   postal_code   207857 non-null  object \n",
      " 7   latitude      207866 non-null  float64\n",
      " 8   longitude     207866 non-null  float64\n",
      " 9   stars         207866 non-null  float64\n",
      " 10  review_count  207866 non-null  int64  \n",
      " 11  hours         163874 non-null  object \n",
      " 12  url           207866 non-null  object \n",
      "dtypes: float64(3), int64(1), object(9)\n",
      "memory usage: 22.2+ MB\n"
     ]
    }
   ],
   "source": [
    "metadata.info()"
   ]
  },
  {
   "cell_type": "markdown",
   "metadata": {},
   "source": [
    "# Cambio de filtros y re categorizacion"
   ]
  },
  {
   "cell_type": "code",
   "execution_count": 57,
   "metadata": {},
   "outputs": [],
   "source": [
    "# Lista de palabras clave gatronomia\n",
    "gastronomia = ['Restaurant','Restaurants','Café','Coffeehouse','Bistro','Tavern','Buffet','Brewpub','Pub','Brasserie','Specialty Coffee','Pub','Churrería','Dinner','Dining','Teahouse','Tea Room','Coffee']\n",
    "\n",
    "# Filtrar los registros que contienen al menos una palabra clave en 'tags'\n",
    "metadata_filtrado = metadata[metadata['category'].str.contains('|'.join(gastronomia))]"
   ]
  },
  {
   "cell_type": "code",
   "execution_count": 58,
   "metadata": {},
   "outputs": [],
   "source": [
    "# Eliminar nulos para 'category'\n",
    "metadata_filtrado = metadata_filtrado.dropna(subset=['category'])"
   ]
  },
  {
   "cell_type": "code",
   "execution_count": 59,
   "metadata": {},
   "outputs": [
    {
     "data": {
      "text/plain": [
       "array([\"['Restaurant']\", \"['Buffet restaurant']\",\n",
       "       \"['Coffee shop', 'Bubble tea store', 'Cafe']\", ...,\n",
       "       \"['Health food restaurant', 'Brazilian restaurant', 'Coffee shop', 'Nuevo Latino restaurant', 'Vegan restaurant']\",\n",
       "       \"['Restaurant', 'Chicken shop', 'Fried chicken takeaway', 'Delivery Restaurant']\",\n",
       "       \"['Gift shop', 'Cafe', 'Restaurant']\"], dtype=object)"
      ]
     },
     "execution_count": 59,
     "metadata": {},
     "output_type": "execute_result"
    }
   ],
   "source": [
    "metadata_filtrado['category'].unique()"
   ]
  },
  {
   "cell_type": "code",
   "execution_count": 60,
   "metadata": {},
   "outputs": [],
   "source": [
    "# Función para encontrar palabras clave en la columna 'tags' y simplificar clasificacion restaurantes\n",
    "def encontrar_palabra_clave(tags):\n",
    "\n",
    "    # Lista de palabras clave que determian categorias mas abarcativas/comunes\n",
    "    palabras_clave = ['Latin','Asian','European','Others','American','Italian','Chinese','Mexican']\n",
    "    # Diccionario para determinar categoria segun palabras claves secundarias\n",
    "    sub_tags = {'European' : ['Italian','Greek','Pasta','French','German','Spanish','Catalan','Basque','Galician','Sicilian','English','Scottish','Welsh','Irish','Dutch','Swedish','Polish','Portuguese','Irish Pub'],\n",
    "                'Italian' : ['Pasta'],\n",
    "                'Latin' : ['Empanadas','Lomo','Asado','Locro','Dulce de Leche','Choripan','Argentinian','Peruvian','Ceviche','Pisco','Mexican','Tacos','Burritos','Enchiladas','Colombian','Arepas','Brazilian'],\n",
    "                'Asian' : ['Sushi','Ramen','Pan-Asian','Korean','Kimchi','Japanese','Sashimi','Tempura','Indian','Thai','Vietnamese'],\n",
    "                'American' : ['Steak','Fast Food','Hamburger','Fast','Chicken wings','Cheesesteak','Sandwich','Fried chicken','Buffet','Restaurant','Brasserie'],\n",
    "                'Cafe': ['Tea','Dinner','Cafe','Coffee'],\n",
    "                'Beverages':['Beer','Caterer','Cocktail','Pub','Brewpub'],\n",
    "                'Others' : ['Healthy','Vegetarian','Vegan','Casual','Seafood','Bistro','African','Middle Eastern','Hummus','Falafel','Shawarma','Tabbouleh','Israeli','Shakshuka','Lebanese','Iranian''Jewish','Turkish']\n",
    "                }\n",
    "\n",
    " \n",
    "    # Buscar en palabras_clave\n",
    "    for palabra in palabras_clave:\n",
    "        if palabra in tags:\n",
    "            return palabra\n",
    "    \n",
    "    # Buscar en sub_tags\n",
    "    for clave, valor in sub_tags.items():\n",
    "        if any(sub_categoria in tags for sub_categoria in valor):\n",
    "            return clave\n",
    "        \n",
    "    # Para aquellos registros donde se etiquete como desconocido, revisar columna tags para agregar etiquetas al diccionario sub_categories y poder reclasificarlo\n",
    "    return 'Desconocido'\n"
   ]
  },
  {
   "cell_type": "code",
   "execution_count": 61,
   "metadata": {},
   "outputs": [],
   "source": [
    "# Renombrar columna 'category' a 'tags'\n",
    "metadata_filtrado = metadata_filtrado.copy()\n",
    "metadata_filtrado.rename(columns={'category': 'tags'}, inplace=True)"
   ]
  },
  {
   "cell_type": "code",
   "execution_count": 62,
   "metadata": {},
   "outputs": [],
   "source": [
    "# Encontrar el índice de la columna 'tags'\n",
    "tags_index = metadata_filtrado.columns.get_loc('tags')\n",
    "\n",
    "# Insertar la nueva columna 'category' antes de 'tags'\n",
    "metadata_filtrado.insert(tags_index - 1, 'category', metadata_filtrado['tags'].apply(encontrar_palabra_clave))\n",
    "\n",
    "# Completar la columna category con la palabra clave encontrada\n",
    "metadata_filtrado.loc[:, 'category'] = metadata_filtrado['tags'].apply(encontrar_palabra_clave)\n"
   ]
  },
  {
   "cell_type": "code",
   "execution_count": 63,
   "metadata": {},
   "outputs": [
    {
     "data": {
      "text/plain": [
       "category\n",
       "American     6724\n",
       "Cafe         1229\n",
       "Beverages    1033\n",
       "Asian         268\n",
       "Italian       260\n",
       "Latin         168\n",
       "Mexican       144\n",
       "Chinese       138\n",
       "European      122\n",
       "Others         31\n",
       "Name: count, dtype: int64"
      ]
     },
     "execution_count": 63,
     "metadata": {},
     "output_type": "execute_result"
    }
   ],
   "source": [
    "metadata_filtrado['category'].value_counts()"
   ]
  },
  {
   "cell_type": "code",
   "execution_count": 64,
   "metadata": {},
   "outputs": [
    {
     "data": {
      "text/plain": [
       "array([], dtype=object)"
      ]
     },
     "execution_count": 64,
     "metadata": {},
     "output_type": "execute_result"
    }
   ],
   "source": [
    "# Control de etiquetas de categoria 'Desconocido' para recategorizar segun corresponda\n",
    "metadata_filtrado[metadata_filtrado['category'] == 'Desconocido']['tags'].unique()"
   ]
  },
  {
   "cell_type": "code",
   "execution_count": 65,
   "metadata": {},
   "outputs": [],
   "source": [
    "# eliminar aquellos registros donde category se 'Desconocido'\n",
    "metadata_filtrado = metadata_filtrado[metadata_filtrado['tags'] != 'Desconocido']\n"
   ]
  },
  {
   "cell_type": "code",
   "execution_count": 66,
   "metadata": {},
   "outputs": [
    {
     "data": {
      "text/plain": [
       "category\n",
       "8    6846\n",
       "4    1229\n",
       "9    1033\n",
       "7     542\n",
       "5     436\n",
       "6      31\n",
       "Name: count, dtype: int64"
      ]
     },
     "execution_count": 66,
     "metadata": {},
     "output_type": "execute_result"
    }
   ],
   "source": [
    "lengths_filtrado = metadata_filtrado['category'].apply(lambda x: len(x))\n",
    "conteo_filtrado = lengths_filtrado.value_counts()\n",
    "conteo_filtrado"
   ]
  },
  {
   "cell_type": "code",
   "execution_count": 67,
   "metadata": {},
   "outputs": [],
   "source": [
    "filtro = metadata_filtrado['tags'] == 'supply store'\n",
    "\n",
    "# Elimina las filas que cumplen con el filtro\n",
    "metadata_filtrado = metadata_filtrado.drop(metadata_filtrado[filtro].index)"
   ]
  },
  {
   "cell_type": "code",
   "execution_count": 68,
   "metadata": {},
   "outputs": [],
   "source": [
    "metadata_filtrado = metadata_filtrado.reset_index(drop=True)"
   ]
  },
  {
   "cell_type": "code",
   "execution_count": 69,
   "metadata": {},
   "outputs": [
    {
     "name": "stdout",
     "output_type": "stream",
     "text": [
      "<class 'pandas.core.frame.DataFrame'>\n",
      "RangeIndex: 10117 entries, 0 to 10116\n",
      "Data columns (total 14 columns):\n",
      " #   Column        Non-Null Count  Dtype  \n",
      "---  ------        --------------  -----  \n",
      " 0   gmap_id       10117 non-null  object \n",
      " 1   name          10117 non-null  object \n",
      " 2   address       10117 non-null  object \n",
      " 3   city          10117 non-null  object \n",
      " 4   category      10117 non-null  object \n",
      " 5   state         10117 non-null  object \n",
      " 6   tags          10117 non-null  object \n",
      " 7   postal_code   10117 non-null  object \n",
      " 8   latitude      10117 non-null  float64\n",
      " 9   longitude     10117 non-null  float64\n",
      " 10  stars         10117 non-null  float64\n",
      " 11  review_count  10117 non-null  int64  \n",
      " 12  hours         8861 non-null   object \n",
      " 13  url           10117 non-null  object \n",
      "dtypes: float64(3), int64(1), object(10)\n",
      "memory usage: 1.1+ MB\n"
     ]
    }
   ],
   "source": [
    "metadata_filtrado.info()"
   ]
  },
  {
   "cell_type": "code",
   "execution_count": 70,
   "metadata": {},
   "outputs": [
    {
     "data": {
      "text/plain": [
       "gmap_id            0\n",
       "name               0\n",
       "address            0\n",
       "city               0\n",
       "category           0\n",
       "state              0\n",
       "tags               0\n",
       "postal_code        0\n",
       "latitude           0\n",
       "longitude          0\n",
       "stars              0\n",
       "review_count       0\n",
       "hours           1256\n",
       "url                0\n",
       "dtype: int64"
      ]
     },
     "execution_count": 70,
     "metadata": {},
     "output_type": "execute_result"
    }
   ],
   "source": [
    "null_counts = metadata_filtrado.isnull().sum(axis=0)\n",
    "null_counts"
   ]
  },
  {
   "cell_type": "code",
   "execution_count": 71,
   "metadata": {},
   "outputs": [
    {
     "data": {
      "text/plain": [
       "gmap_id            0\n",
       "name               0\n",
       "address            0\n",
       "city               0\n",
       "category           0\n",
       "state              0\n",
       "tags               0\n",
       "postal_code        0\n",
       "latitude           0\n",
       "longitude          0\n",
       "stars              0\n",
       "review_count       0\n",
       "hours           1256\n",
       "url                0\n",
       "dtype: int64"
      ]
     },
     "execution_count": 71,
     "metadata": {},
     "output_type": "execute_result"
    }
   ],
   "source": [
    "null_counts = metadata_filtrado.isnull().sum(axis=0)\n",
    "null_counts"
   ]
  },
  {
   "cell_type": "code",
   "execution_count": 72,
   "metadata": {},
   "outputs": [],
   "source": [
    "# Eliminar la columna 'hours'\n",
    "metadata_filtrado = metadata_filtrado.drop('hours', axis=1)"
   ]
  },
  {
   "cell_type": "code",
   "execution_count": 73,
   "metadata": {},
   "outputs": [],
   "source": [
    "metadata_filtrado = metadata_filtrado.reset_index(drop=True)"
   ]
  },
  {
   "cell_type": "code",
   "execution_count": 74,
   "metadata": {},
   "outputs": [],
   "source": [
    "metadata_filtrado.to_parquet('datasets/procesados/metadata-restaurants-FL.parquet')"
   ]
  }
 ],
 "metadata": {
  "kernelspec": {
   "display_name": "Python 3",
   "language": "python",
   "name": "python3"
  },
  "language_info": {
   "codemirror_mode": {
    "name": "ipython",
    "version": 3
   },
   "file_extension": ".py",
   "mimetype": "text/x-python",
   "name": "python",
   "nbconvert_exporter": "python",
   "pygments_lexer": "ipython3",
   "version": "3.11.8"
  }
 },
 "nbformat": 4,
 "nbformat_minor": 2
}
