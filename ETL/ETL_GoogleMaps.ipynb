{
 "cells": [
  {
   "cell_type": "markdown",
   "metadata": {},
   "source": [
    "# ETL Google Maps datasets"
   ]
  },
  {
   "cell_type": "code",
   "execution_count": 48,
   "metadata": {
    "tags": []
   },
   "outputs": [],
   "source": [
    "# Importacion de librerias necesarias para procesamiento\n",
    "import pandas as pd\n",
    "import json\n",
    "import datetime\n",
    "from datetime import datetime\n",
    "from textblob import TextBlob"
   ]
  },
  {
   "cell_type": "markdown",
   "metadata": {},
   "source": [
    "## Metadata_sitios"
   ]
  },
  {
   "cell_type": "code",
   "execution_count": 49,
   "metadata": {},
   "outputs": [],
   "source": [
    "metadata = pd.read_csv('metadata_raw.csv')"
   ]
  },
  {
   "cell_type": "code",
   "execution_count": 50,
   "metadata": {
    "tags": []
   },
   "outputs": [],
   "source": [
    "# Contabilizar numero de filas duplicadas tanto para 'name' como 'adress'\n",
    "numero_filas_duplicadas = metadata.duplicated(['name', 'address']).sum()"
   ]
  },
  {
   "cell_type": "code",
   "execution_count": 51,
   "metadata": {
    "tags": []
   },
   "outputs": [],
   "source": [
    "# Eliminar filas duplicadas tanto para 'name' como 'adress'\n",
    "metadata = metadata.drop_duplicates(['name', 'address'])"
   ]
  },
  {
   "cell_type": "code",
   "execution_count": 52,
   "metadata": {
    "tags": []
   },
   "outputs": [
    {
     "data": {
      "text/plain": [
       "name                  5\n",
       "address               0\n",
       "gmap_id               0\n",
       "latitude              0\n",
       "longitude             0\n",
       "category           1368\n",
       "avg_rating            0\n",
       "num_of_reviews        0\n",
       "hours             49366\n",
       "url                   0\n",
       "dtype: int64"
      ]
     },
     "execution_count": 52,
     "metadata": {},
     "output_type": "execute_result"
    }
   ],
   "source": [
    "# Contabilizar filas nulas\n",
    "cantidad_filas_nulas = metadata.isnull().sum()\n",
    "cantidad_filas_nulas"
   ]
  },
  {
   "cell_type": "markdown",
   "metadata": {},
   "source": [
    "#### Limpieza y transformacion de datos"
   ]
  },
  {
   "cell_type": "code",
   "execution_count": 53,
   "metadata": {
    "tags": []
   },
   "outputs": [],
   "source": [
    "# Filtrar columnas deseadas\n",
    "metadata = metadata[['name', 'address', 'gmap_id', 'latitude', 'longitude','category', 'avg_rating', 'num_of_reviews', 'hours', 'url']]"
   ]
  },
  {
   "cell_type": "code",
   "execution_count": 54,
   "metadata": {
    "tags": []
   },
   "outputs": [],
   "source": [
    "# Elimnar nulos para la columna 'category'\n",
    "metadata = metadata.dropna(subset=['category'])"
   ]
  },
  {
   "cell_type": "code",
   "execution_count": 55,
   "metadata": {
    "tags": []
   },
   "outputs": [
    {
     "name": "stdout",
     "output_type": "stream",
     "text": [
      "<class 'pandas.core.frame.DataFrame'>\n",
      "Index: 214248 entries, 0 to 215615\n",
      "Data columns (total 10 columns):\n",
      " #   Column          Non-Null Count   Dtype  \n",
      "---  ------          --------------   -----  \n",
      " 0   name            214243 non-null  object \n",
      " 1   address         214248 non-null  object \n",
      " 2   gmap_id         214248 non-null  object \n",
      " 3   latitude        214248 non-null  float64\n",
      " 4   longitude       214248 non-null  float64\n",
      " 5   category        214248 non-null  object \n",
      " 6   avg_rating      214248 non-null  float64\n",
      " 7   num_of_reviews  214248 non-null  int64  \n",
      " 8   hours           166042 non-null  object \n",
      " 9   url             214248 non-null  object \n",
      "dtypes: float64(3), int64(1), object(6)\n",
      "memory usage: 18.0+ MB\n"
     ]
    }
   ],
   "source": [
    "metadata.info()"
   ]
  },
  {
   "cell_type": "code",
   "execution_count": 56,
   "metadata": {
    "tags": []
   },
   "outputs": [
    {
     "data": {
      "text/html": [
       "<div>\n",
       "<style scoped>\n",
       "    .dataframe tbody tr th:only-of-type {\n",
       "        vertical-align: middle;\n",
       "    }\n",
       "\n",
       "    .dataframe tbody tr th {\n",
       "        vertical-align: top;\n",
       "    }\n",
       "\n",
       "    .dataframe thead th {\n",
       "        text-align: right;\n",
       "    }\n",
       "</style>\n",
       "<table border=\"1\" class=\"dataframe\">\n",
       "  <thead>\n",
       "    <tr style=\"text-align: right;\">\n",
       "      <th></th>\n",
       "      <th>name</th>\n",
       "      <th>address</th>\n",
       "      <th>gmap_id</th>\n",
       "      <th>latitude</th>\n",
       "      <th>longitude</th>\n",
       "      <th>category</th>\n",
       "      <th>avg_rating</th>\n",
       "      <th>num_of_reviews</th>\n",
       "      <th>hours</th>\n",
       "      <th>url</th>\n",
       "    </tr>\n",
       "  </thead>\n",
       "  <tbody>\n",
       "    <tr>\n",
       "      <th>0</th>\n",
       "      <td>NTK OUTDOOR</td>\n",
       "      <td>2315 NW 107th Ave #1B18, Miami, FL 33172</td>\n",
       "      <td>0x88d9beb4fe0532c1:0xef0555c169299d6</td>\n",
       "      <td>25.795204</td>\n",
       "      <td>-80.366038</td>\n",
       "      <td>['Corporate office']</td>\n",
       "      <td>5.0</td>\n",
       "      <td>35</td>\n",
       "      <td>[['Thursday', '9AM–6PM'], ['Friday', '9AM–6PM'...</td>\n",
       "      <td>https://www.google.com/maps/place//data=!4m2!3...</td>\n",
       "    </tr>\n",
       "    <tr>\n",
       "      <th>1</th>\n",
       "      <td>Cruises Inc. - Connie Stewart</td>\n",
       "      <td>6602 52nd Ln, Pinellas Park, FL 33781</td>\n",
       "      <td>0x88c2e49b79f06c31:0x4ed8c8ce27e926e0</td>\n",
       "      <td>27.832187</td>\n",
       "      <td>-82.704805</td>\n",
       "      <td>['Cruise agency']</td>\n",
       "      <td>5.0</td>\n",
       "      <td>2</td>\n",
       "      <td>[['Thursday', '9AM–5PM'], ['Friday', '9AM–5PM'...</td>\n",
       "      <td>https://www.google.com/maps/place//data=!4m2!3...</td>\n",
       "    </tr>\n",
       "    <tr>\n",
       "      <th>3</th>\n",
       "      <td>First Impressions Barbershop Inc.</td>\n",
       "      <td>577 Deltona Blvd suite #9, Deltona, FL 32725</td>\n",
       "      <td>0x88e711bd2244fe3b:0x8406dd780f0574d1</td>\n",
       "      <td>28.877581</td>\n",
       "      <td>-81.281276</td>\n",
       "      <td>['Barber shop']</td>\n",
       "      <td>4.0</td>\n",
       "      <td>8</td>\n",
       "      <td>[['Thursday', '8AM–8PM'], ['Friday', '8AM–8PM'...</td>\n",
       "      <td>https://www.google.com/maps/place//data=!4m2!3...</td>\n",
       "    </tr>\n",
       "    <tr>\n",
       "      <th>4</th>\n",
       "      <td>Brian Shaheen, MD</td>\n",
       "      <td>2421 Thomas Dr, Panama City, FL 32408</td>\n",
       "      <td>0x8893863ea87bd5dd:0x9383ebf973e74abb</td>\n",
       "      <td>30.159982</td>\n",
       "      <td>-85.752277</td>\n",
       "      <td>['Family practice physician', 'General practit...</td>\n",
       "      <td>4.2</td>\n",
       "      <td>18</td>\n",
       "      <td>[['Thursday', '8AM–5PM'], ['Friday', '8AM–5PM'...</td>\n",
       "      <td>https://www.google.com/maps/place//data=!4m2!3...</td>\n",
       "    </tr>\n",
       "    <tr>\n",
       "      <th>5</th>\n",
       "      <td>Cape Seafood Shack</td>\n",
       "      <td>603 Del Prado Blvd S, Cape Coral, FL 33990</td>\n",
       "      <td>0x88db4147b1d9e6f3:0x943dbd10a92ba1b1</td>\n",
       "      <td>26.641377</td>\n",
       "      <td>-81.940545</td>\n",
       "      <td>['Restaurant']</td>\n",
       "      <td>5.0</td>\n",
       "      <td>1</td>\n",
       "      <td>NaN</td>\n",
       "      <td>https://www.google.com/maps/place//data=!4m2!3...</td>\n",
       "    </tr>\n",
       "  </tbody>\n",
       "</table>\n",
       "</div>"
      ],
      "text/plain": [
       "                                name  \\\n",
       "0                        NTK OUTDOOR   \n",
       "1      Cruises Inc. - Connie Stewart   \n",
       "3  First Impressions Barbershop Inc.   \n",
       "4                  Brian Shaheen, MD   \n",
       "5                 Cape Seafood Shack   \n",
       "\n",
       "                                        address  \\\n",
       "0      2315 NW 107th Ave #1B18, Miami, FL 33172   \n",
       "1         6602 52nd Ln, Pinellas Park, FL 33781   \n",
       "3  577 Deltona Blvd suite #9, Deltona, FL 32725   \n",
       "4         2421 Thomas Dr, Panama City, FL 32408   \n",
       "5    603 Del Prado Blvd S, Cape Coral, FL 33990   \n",
       "\n",
       "                                 gmap_id   latitude  longitude  \\\n",
       "0   0x88d9beb4fe0532c1:0xef0555c169299d6  25.795204 -80.366038   \n",
       "1  0x88c2e49b79f06c31:0x4ed8c8ce27e926e0  27.832187 -82.704805   \n",
       "3  0x88e711bd2244fe3b:0x8406dd780f0574d1  28.877581 -81.281276   \n",
       "4  0x8893863ea87bd5dd:0x9383ebf973e74abb  30.159982 -85.752277   \n",
       "5  0x88db4147b1d9e6f3:0x943dbd10a92ba1b1  26.641377 -81.940545   \n",
       "\n",
       "                                            category  avg_rating  \\\n",
       "0                               ['Corporate office']         5.0   \n",
       "1                                  ['Cruise agency']         5.0   \n",
       "3                                    ['Barber shop']         4.0   \n",
       "4  ['Family practice physician', 'General practit...         4.2   \n",
       "5                                     ['Restaurant']         5.0   \n",
       "\n",
       "   num_of_reviews                                              hours  \\\n",
       "0              35  [['Thursday', '9AM–6PM'], ['Friday', '9AM–6PM'...   \n",
       "1               2  [['Thursday', '9AM–5PM'], ['Friday', '9AM–5PM'...   \n",
       "3               8  [['Thursday', '8AM–8PM'], ['Friday', '8AM–8PM'...   \n",
       "4              18  [['Thursday', '8AM–5PM'], ['Friday', '8AM–5PM'...   \n",
       "5               1                                                NaN   \n",
       "\n",
       "                                                 url  \n",
       "0  https://www.google.com/maps/place//data=!4m2!3...  \n",
       "1  https://www.google.com/maps/place//data=!4m2!3...  \n",
       "3  https://www.google.com/maps/place//data=!4m2!3...  \n",
       "4  https://www.google.com/maps/place//data=!4m2!3...  \n",
       "5  https://www.google.com/maps/place//data=!4m2!3...  "
      ]
     },
     "execution_count": 56,
     "metadata": {},
     "output_type": "execute_result"
    }
   ],
   "source": [
    "def extraer_nombre_y_direccion(address, name):\n",
    "    import re\n",
    "    # Verificar si address o name es NaN\n",
    "    if pd.isna(address) or pd.isna(name):\n",
    "        return None\n",
    "    \n",
    "    # Escapar caracteres especiales en el nombre\n",
    "    escaped_name = re.escape(name)\n",
    "    \n",
    "    # Utilizamos expresiones regulares para encontrar el nombre seguido de una coma y un espacio en la dirección\n",
    "    match = re.search(rf\"\\b{escaped_name}, \\b\", address)\n",
    "    if match:\n",
    "        # Si se encuentra el nombre seguido de una coma y un espacio en la dirección, extraemos la parte de la dirección después de eso\n",
    "        parte_direccion = address[match.end():].strip()\n",
    "        # Devolvemos la parte de la dirección después del nombre y la coma seguida de un espacio\n",
    "        return parte_direccion\n",
    "    \n",
    "# Aplicar la funcion a la columna address corrigiendo los valores existentes\n",
    "metadata['address'] = metadata.apply(lambda x: extraer_nombre_y_direccion(x['address'], x['name']), axis=1)\n",
    "\n",
    "# Visualizar resultado\n",
    "metadata.head()"
   ]
  },
  {
   "cell_type": "code",
   "execution_count": 57,
   "metadata": {
    "tags": []
   },
   "outputs": [],
   "source": [
    "# Eliminamos el campo 'pais' de address ya que solo trabajamos con Estados Unidos\n",
    "metadata['address'] = metadata['address'].str.replace(', United States', '').str.strip()"
   ]
  },
  {
   "cell_type": "code",
   "execution_count": 58,
   "metadata": {
    "tags": []
   },
   "outputs": [],
   "source": [
    "# Dividir la cadena de dirección en partes utilizando la coma como delimitador\n",
    "address_parts = metadata['address'].str.rsplit(', ', n=2, expand=True)\n",
    "\n",
    "# Asignar las partes a las columnas correspondientes\n",
    "metadata['address'] = address_parts[0]\n",
    "metadata['city'] = address_parts[1]\n",
    "metadata['state'] = address_parts[2]\n",
    "\n",
    "# Dividir la cadena de dirección en partes utilizando la coma como delimitador\n",
    "state_parts = metadata['state'].str.split(' ', expand=True)\n",
    "\n",
    "# Asignar las partes a las columnas correspondientes\n",
    "metadata['state'] = state_parts[0]\n",
    "metadata['postal_code'] = state_parts[1]"
   ]
  },
  {
   "cell_type": "code",
   "execution_count": 59,
   "metadata": {
    "tags": []
   },
   "outputs": [],
   "source": [
    "# Renombrar columna 'avg_rating' a 'stars'\n",
    "metadata.rename(columns={'avg_rating': 'stars'}, inplace=True)\n",
    "\n",
    "# Renombrar columna 'category' a 'tags'\n",
    "metadata.rename(columns={'category': 'tags'}, inplace=True)\n",
    "\n",
    "# Renombrar columna 'num_of_reviews' a 'review_count'\n",
    "metadata.rename(columns={'num_of_reviews': 'review_count'}, inplace=True)\n",
    "\n",
    "# Reordenar columnas\n",
    "metadata = metadata[['gmap_id','name', 'address','city','state','postal_code','latitude','longitude','stars','review_count','tags','hours','url']]"
   ]
  },
  {
   "cell_type": "code",
   "execution_count": 60,
   "metadata": {
    "tags": []
   },
   "outputs": [
    {
     "data": {
      "text/plain": [
       "gmap_id             0\n",
       "name                5\n",
       "address           390\n",
       "city              570\n",
       "state            5449\n",
       "postal_code      5465\n",
       "latitude            0\n",
       "longitude           0\n",
       "stars               0\n",
       "review_count        0\n",
       "tags                0\n",
       "hours           48206\n",
       "url                 0\n",
       "dtype: int64"
      ]
     },
     "execution_count": 60,
     "metadata": {},
     "output_type": "execute_result"
    }
   ],
   "source": [
    "cantidad_filas_nulas = metadata.isnull().sum()\n",
    "cantidad_filas_nulas"
   ]
  },
  {
   "cell_type": "code",
   "execution_count": 61,
   "metadata": {
    "tags": []
   },
   "outputs": [],
   "source": [
    "# Convertir valores a float\n",
    "metadata['latitude'] = metadata['latitude'].astype(float)\n",
    "metadata['longitude'] = metadata['longitude'].astype(float)\n",
    "metadata['stars'] = metadata['stars'].astype(float)"
   ]
  },
  {
   "cell_type": "markdown",
   "metadata": {},
   "source": [
    "#### Filtros"
   ]
  },
  {
   "cell_type": "code",
   "execution_count": 62,
   "metadata": {
    "tags": []
   },
   "outputs": [],
   "source": [
    "# Filtrar las filas donde el estado es Florida\n",
    "metadata = metadata.loc[metadata['state'] == 'FL']"
   ]
  },
  {
   "cell_type": "code",
   "execution_count": 63,
   "metadata": {},
   "outputs": [],
   "source": [
    "# Capitalizar todas las palabras en la columna 'tags'\n",
    "metadata['tags'] = metadata['tags'].str.title()"
   ]
  },
  {
   "cell_type": "code",
   "execution_count": 64,
   "metadata": {
    "tags": []
   },
   "outputs": [],
   "source": [
    "# Lista de palabras clave gatronomia\n",
    "gastronomia = ['Restaurant', 'Restaurants','Food','Bars','Bar','Café','Coffeehouse','Bistro','Tavern','Buffet','Brewpub','Pub','Brasserie','Specialty Coffee Shop','Pub','Churrería','Diner','Dining','Teahouse','Tea Room','Gas Station', 'Gas','Fuel Station','Fuel']\n",
    "\n",
    "# Filtrar los registros que contienen al menos una palabra clave en 'tags'\n",
    "metadata_gastronomia = metadata[metadata['tags'].str.contains('|'.join(gastronomia))]\n",
    "\n",
    "# Lista de palabras clave comida ethnica\n",
    "comida_ethnica = ['Chinese','Indian','Thai','Italian','Greek','Helthy','Helth','Latin','Mexican','Tacos','Burritos','Enchiladas','Argentinian','Vegan','Vegetarian','Peruvian','Ceviche','Lomo','Pisco','Colombian','Empanadas','Arepas','Asian','Japanese','Sushi','Ramen','Sashimi','Tempura','Korean','Kimchi','Vietnamese','African','Ethiopian','Nigerian','Middle Eastern','Lebanese','Hummus','Falafel','Shawarma','Tabbouleh','Israeli','Shakshuka','Falafel','Hummus','Iranian','Healthy','Vegetarian','Vegan','Gas Station', 'Gas','Fuel Station','Fuel']\n",
    "\n",
    "# Filtrar los registros que contienen al menos una palabra clave en 'tags'\n",
    "df_metadata_ethnica = metadata_gastronomia[metadata_gastronomia['tags'].str.contains('|'.join(comida_ethnica))]"
   ]
  },
  {
   "cell_type": "code",
   "execution_count": 65,
   "metadata": {
    "tags": []
   },
   "outputs": [],
   "source": [
    "# Filtrar los registros donde 'name' se repite más de una vez\n",
    "# Estos registros se consideraran como franquicias al identificarse con el mismo nombre y encontrarse en distintas locaciones\n",
    "metadata = df_metadata_ethnica[df_metadata_ethnica.duplicated(subset='name', keep=False)]"
   ]
  },
  {
   "cell_type": "code",
   "execution_count": 66,
   "metadata": {},
   "outputs": [],
   "source": [
    "# Función para encontrar palabras clave en la columna 'tags' y simplificar clasificacion restaurantes\n",
    "\n",
    "def encontrar_palabra_clave(tags):\n",
    "\n",
    "    # Lista de palabras clave que determian categorias mas abarcativas/comunes\n",
    "    palabras_clave = ['Chinese','Indian','Thai','Italian','Greek','Mexican','Argentinian','Peruvian','Colombian','Japanese','Korean','Vietnamese','Ethiopian','Nigerian','Lebanese','Israeli','Iranian','Latin','Asian','African','Middle Eastern','Healthy','Vegetarian','Vegan','Casual','Gas Station']\n",
    "    # Diccionario para determinar categoria segun palabras claves secundarias\n",
    "    sub_tags = {  'Mexican' : ['Tacos','Burritos','Enchiladas'],\n",
    "                        'Perubian' : ['Ceviche','Pisco'],\n",
    "                        'Argentinian' : ['Asado','Locro','Dulce de Leche','Choripan'],\n",
    "                        'Colombian' : ['Arepas'],\n",
    "                        'Latin' : ['Empanadas','Lomo'],\n",
    "                        'Asian' : ['Sushi','Ramen','Pan-Asian'],\n",
    "                        'Korean' : ['Kimchi'],\n",
    "                        'Japanese' : ['Sashimi','Tempura'],\n",
    "                        'Middle_estern' : ['Hummus','Falafel','Shawarma','Tabbouleh'],\n",
    "                        'Israeli' : ['Shakshuka'],\n",
    "                        'Gas Station' : ['Gas', 'Gas Station', 'Convenience Store', 'Atm', 'Coffee Shop','Fuel Supplier','Fuel']}\n",
    "\n",
    "\n",
    "    # Buscar en palabras_clave\n",
    "    for palabra in palabras_clave:\n",
    "        if palabra in tags:\n",
    "            return palabra\n",
    "    \n",
    "    # Buscar en sub_tags\n",
    "    for clave, valor in sub_tags.items():\n",
    "        if any(sub_categoria in tags for sub_categoria in valor):\n",
    "            return clave\n",
    "        \n",
    "    # Para aquellos registros donde se etiquete como desconocido, revisar columna tags para agregar etiquetas al diccionario sub_categories y poder reclasificarlo\n",
    "    return 'Desconocido'\n"
   ]
  },
  {
   "cell_type": "code",
   "execution_count": 67,
   "metadata": {},
   "outputs": [
    {
     "data": {
      "text/html": [
       "<div>\n",
       "<style scoped>\n",
       "    .dataframe tbody tr th:only-of-type {\n",
       "        vertical-align: middle;\n",
       "    }\n",
       "\n",
       "    .dataframe tbody tr th {\n",
       "        vertical-align: top;\n",
       "    }\n",
       "\n",
       "    .dataframe thead th {\n",
       "        text-align: right;\n",
       "    }\n",
       "</style>\n",
       "<table border=\"1\" class=\"dataframe\">\n",
       "  <thead>\n",
       "    <tr style=\"text-align: right;\">\n",
       "      <th></th>\n",
       "      <th>gmap_id</th>\n",
       "      <th>name</th>\n",
       "      <th>address</th>\n",
       "      <th>city</th>\n",
       "      <th>state</th>\n",
       "      <th>postal_code</th>\n",
       "      <th>latitude</th>\n",
       "      <th>longitude</th>\n",
       "      <th>stars</th>\n",
       "      <th>categories</th>\n",
       "      <th>review_count</th>\n",
       "      <th>tags</th>\n",
       "      <th>hours</th>\n",
       "      <th>url</th>\n",
       "    </tr>\n",
       "  </thead>\n",
       "  <tbody>\n",
       "    <tr>\n",
       "      <th>0</th>\n",
       "      <td>0x88e635378f43352f:0xa1b53c63436fa428</td>\n",
       "      <td>Shell</td>\n",
       "      <td>15877 E, FL-40</td>\n",
       "      <td>Silver Springs</td>\n",
       "      <td>FL</td>\n",
       "      <td>34488</td>\n",
       "      <td>29.183272</td>\n",
       "      <td>-81.889965</td>\n",
       "      <td>1.8</td>\n",
       "      <td>Gas Station</td>\n",
       "      <td>5</td>\n",
       "      <td>['Gas Station', 'Atm', 'Convenience Store', 'R...</td>\n",
       "      <td>[['Thursday', 'Open 24 hours'], ['Friday', 'Op...</td>\n",
       "      <td>https://www.google.com/maps/place//data=!4m2!3...</td>\n",
       "    </tr>\n",
       "    <tr>\n",
       "      <th>1</th>\n",
       "      <td>0x88d901cf9b30e949:0x45ea9286f8c596c2</td>\n",
       "      <td>Exxon</td>\n",
       "      <td>621 W Broward Blvd</td>\n",
       "      <td>Fort Lauderdale</td>\n",
       "      <td>FL</td>\n",
       "      <td>33312</td>\n",
       "      <td>26.122500</td>\n",
       "      <td>-80.150300</td>\n",
       "      <td>5.0</td>\n",
       "      <td>Gas Station</td>\n",
       "      <td>1</td>\n",
       "      <td>['Gas Station']</td>\n",
       "      <td>[['Thursday', 'Open 24 hours'], ['Friday', 'Op...</td>\n",
       "      <td>https://www.google.com/maps/place//data=!4m2!3...</td>\n",
       "    </tr>\n",
       "    <tr>\n",
       "      <th>2</th>\n",
       "      <td>0x88e8a13da9b3fea3:0x59a99647bb951969</td>\n",
       "      <td>Circle K</td>\n",
       "      <td>4310 SE Hawthorne Rd</td>\n",
       "      <td>Gainesville</td>\n",
       "      <td>FL</td>\n",
       "      <td>32641</td>\n",
       "      <td>29.635547</td>\n",
       "      <td>-82.272016</td>\n",
       "      <td>3.5</td>\n",
       "      <td>Gas Station</td>\n",
       "      <td>4</td>\n",
       "      <td>['Convenience Store', 'Atm', 'Coffee Shop', 'G...</td>\n",
       "      <td>[['Thursday', 'Open 24 hours'], ['Friday', 'Op...</td>\n",
       "      <td>https://www.google.com/maps/place//data=!4m2!3...</td>\n",
       "    </tr>\n",
       "    <tr>\n",
       "      <th>3</th>\n",
       "      <td>0x88db592776a2303f:0x217bffde2d2e30c8</td>\n",
       "      <td>7 Eleven</td>\n",
       "      <td>26920 Jones Loop Rd</td>\n",
       "      <td>Punta Gorda</td>\n",
       "      <td>FL</td>\n",
       "      <td>33982</td>\n",
       "      <td>26.896282</td>\n",
       "      <td>-81.995669</td>\n",
       "      <td>5.0</td>\n",
       "      <td>Gas Station</td>\n",
       "      <td>1</td>\n",
       "      <td>['Gas Station']</td>\n",
       "      <td>NaN</td>\n",
       "      <td>https://www.google.com/maps/place//data=!4m2!3...</td>\n",
       "    </tr>\n",
       "    <tr>\n",
       "      <th>4</th>\n",
       "      <td>0x88e76156b262d32b:0x1db1a887284e0fd8</td>\n",
       "      <td>Speedway</td>\n",
       "      <td>10024 Lee Vista Blvd</td>\n",
       "      <td>Orlando</td>\n",
       "      <td>FL</td>\n",
       "      <td>32829</td>\n",
       "      <td>28.477886</td>\n",
       "      <td>-81.246483</td>\n",
       "      <td>4.1</td>\n",
       "      <td>Gas Station</td>\n",
       "      <td>17</td>\n",
       "      <td>['Convenience Store', 'Gas Station']</td>\n",
       "      <td>[['Wednesday', 'Open 24 hours'], ['Thursday', ...</td>\n",
       "      <td>https://www.google.com/maps/place//data=!4m2!3...</td>\n",
       "    </tr>\n",
       "    <tr>\n",
       "      <th>...</th>\n",
       "      <td>...</td>\n",
       "      <td>...</td>\n",
       "      <td>...</td>\n",
       "      <td>...</td>\n",
       "      <td>...</td>\n",
       "      <td>...</td>\n",
       "      <td>...</td>\n",
       "      <td>...</td>\n",
       "      <td>...</td>\n",
       "      <td>...</td>\n",
       "      <td>...</td>\n",
       "      <td>...</td>\n",
       "      <td>...</td>\n",
       "      <td>...</td>\n",
       "    </tr>\n",
       "    <tr>\n",
       "      <th>3464</th>\n",
       "      <td>0x88dd3fdb842040c5:0xe68b63c06e077638</td>\n",
       "      <td>Mobil</td>\n",
       "      <td>1315 US-98</td>\n",
       "      <td>Lakeland</td>\n",
       "      <td>FL</td>\n",
       "      <td>33801</td>\n",
       "      <td>28.026260</td>\n",
       "      <td>-81.927710</td>\n",
       "      <td>4.3</td>\n",
       "      <td>Gas Station</td>\n",
       "      <td>8</td>\n",
       "      <td>['Gas Station']</td>\n",
       "      <td>[['Saturday', 'Open 24 hours'], ['Sunday', 'Op...</td>\n",
       "      <td>https://www.google.com/maps/place//data=!4m2!3...</td>\n",
       "    </tr>\n",
       "    <tr>\n",
       "      <th>3465</th>\n",
       "      <td>0x88dc5595622d279b:0x25248868a3fad9ad</td>\n",
       "      <td>Chevron</td>\n",
       "      <td>1412 Memorial Dr</td>\n",
       "      <td>Avon Park</td>\n",
       "      <td>FL</td>\n",
       "      <td>33825</td>\n",
       "      <td>27.595469</td>\n",
       "      <td>-81.493968</td>\n",
       "      <td>4.5</td>\n",
       "      <td>Gas Station</td>\n",
       "      <td>18</td>\n",
       "      <td>['Gas Station']</td>\n",
       "      <td>NaN</td>\n",
       "      <td>https://www.google.com/maps/place//data=!4m2!3...</td>\n",
       "    </tr>\n",
       "    <tr>\n",
       "      <th>3466</th>\n",
       "      <td>0x88e6d78ad375c7bf:0x85f0d88e4e13e6bc</td>\n",
       "      <td>Speedway</td>\n",
       "      <td>4590 S Ridgewood Ave</td>\n",
       "      <td>Port Orange</td>\n",
       "      <td>FL</td>\n",
       "      <td>32127</td>\n",
       "      <td>29.137442</td>\n",
       "      <td>-80.984760</td>\n",
       "      <td>3.6</td>\n",
       "      <td>Gas Station</td>\n",
       "      <td>8</td>\n",
       "      <td>['Convenience Store', 'Gas Station']</td>\n",
       "      <td>[['Saturday', '5AM–11PM'], ['Sunday', '5AM–11P...</td>\n",
       "      <td>https://www.google.com/maps/place//data=!4m2!3...</td>\n",
       "    </tr>\n",
       "    <tr>\n",
       "      <th>3467</th>\n",
       "      <td>0x88db39443c074c89:0xb20f9cd6006f0bc2</td>\n",
       "      <td>Circle K</td>\n",
       "      <td>20021 Summerlin Rd</td>\n",
       "      <td>Fort Myers</td>\n",
       "      <td>FL</td>\n",
       "      <td>33908</td>\n",
       "      <td>26.492749</td>\n",
       "      <td>-81.968294</td>\n",
       "      <td>3.4</td>\n",
       "      <td>Gas Station</td>\n",
       "      <td>7</td>\n",
       "      <td>['Convenience Store', 'Atm', 'Coffee Shop', 'C...</td>\n",
       "      <td>[['Saturday', 'Open 24 hours'], ['Sunday', 'Op...</td>\n",
       "      <td>https://www.google.com/maps/place//data=!4m2!3...</td>\n",
       "    </tr>\n",
       "    <tr>\n",
       "      <th>3468</th>\n",
       "      <td>0x88db6a843ca61173:0xb38f733cbe406d75</td>\n",
       "      <td>Circle K</td>\n",
       "      <td>2634 Winkler Ave</td>\n",
       "      <td>Fort Myers</td>\n",
       "      <td>FL</td>\n",
       "      <td>33901</td>\n",
       "      <td>26.604100</td>\n",
       "      <td>-81.858931</td>\n",
       "      <td>3.3</td>\n",
       "      <td>Gas Station</td>\n",
       "      <td>4</td>\n",
       "      <td>['Convenience Store', 'Atm', 'Coffee Shop', 'C...</td>\n",
       "      <td>[['Saturday', 'Open 24 hours'], ['Sunday', 'Op...</td>\n",
       "      <td>https://www.google.com/maps/place//data=!4m2!3...</td>\n",
       "    </tr>\n",
       "  </tbody>\n",
       "</table>\n",
       "<p>3469 rows × 14 columns</p>\n",
       "</div>"
      ],
      "text/plain": [
       "                                    gmap_id      name               address  \\\n",
       "0     0x88e635378f43352f:0xa1b53c63436fa428     Shell        15877 E, FL-40   \n",
       "1     0x88d901cf9b30e949:0x45ea9286f8c596c2     Exxon    621 W Broward Blvd   \n",
       "2     0x88e8a13da9b3fea3:0x59a99647bb951969  Circle K  4310 SE Hawthorne Rd   \n",
       "3     0x88db592776a2303f:0x217bffde2d2e30c8  7 Eleven   26920 Jones Loop Rd   \n",
       "4     0x88e76156b262d32b:0x1db1a887284e0fd8  Speedway  10024 Lee Vista Blvd   \n",
       "...                                     ...       ...                   ...   \n",
       "3464  0x88dd3fdb842040c5:0xe68b63c06e077638     Mobil            1315 US-98   \n",
       "3465  0x88dc5595622d279b:0x25248868a3fad9ad   Chevron      1412 Memorial Dr   \n",
       "3466  0x88e6d78ad375c7bf:0x85f0d88e4e13e6bc  Speedway  4590 S Ridgewood Ave   \n",
       "3467  0x88db39443c074c89:0xb20f9cd6006f0bc2  Circle K    20021 Summerlin Rd   \n",
       "3468  0x88db6a843ca61173:0xb38f733cbe406d75  Circle K      2634 Winkler Ave   \n",
       "\n",
       "                 city state postal_code   latitude  longitude  stars  \\\n",
       "0      Silver Springs    FL       34488  29.183272 -81.889965    1.8   \n",
       "1     Fort Lauderdale    FL       33312  26.122500 -80.150300    5.0   \n",
       "2         Gainesville    FL       32641  29.635547 -82.272016    3.5   \n",
       "3         Punta Gorda    FL       33982  26.896282 -81.995669    5.0   \n",
       "4             Orlando    FL       32829  28.477886 -81.246483    4.1   \n",
       "...               ...   ...         ...        ...        ...    ...   \n",
       "3464         Lakeland    FL       33801  28.026260 -81.927710    4.3   \n",
       "3465        Avon Park    FL       33825  27.595469 -81.493968    4.5   \n",
       "3466      Port Orange    FL       32127  29.137442 -80.984760    3.6   \n",
       "3467       Fort Myers    FL       33908  26.492749 -81.968294    3.4   \n",
       "3468       Fort Myers    FL       33901  26.604100 -81.858931    3.3   \n",
       "\n",
       "       categories  review_count  \\\n",
       "0     Gas Station             5   \n",
       "1     Gas Station             1   \n",
       "2     Gas Station             4   \n",
       "3     Gas Station             1   \n",
       "4     Gas Station            17   \n",
       "...           ...           ...   \n",
       "3464  Gas Station             8   \n",
       "3465  Gas Station            18   \n",
       "3466  Gas Station             8   \n",
       "3467  Gas Station             7   \n",
       "3468  Gas Station             4   \n",
       "\n",
       "                                                   tags  \\\n",
       "0     ['Gas Station', 'Atm', 'Convenience Store', 'R...   \n",
       "1                                       ['Gas Station']   \n",
       "2     ['Convenience Store', 'Atm', 'Coffee Shop', 'G...   \n",
       "3                                       ['Gas Station']   \n",
       "4                  ['Convenience Store', 'Gas Station']   \n",
       "...                                                 ...   \n",
       "3464                                    ['Gas Station']   \n",
       "3465                                    ['Gas Station']   \n",
       "3466               ['Convenience Store', 'Gas Station']   \n",
       "3467  ['Convenience Store', 'Atm', 'Coffee Shop', 'C...   \n",
       "3468  ['Convenience Store', 'Atm', 'Coffee Shop', 'C...   \n",
       "\n",
       "                                                  hours  \\\n",
       "0     [['Thursday', 'Open 24 hours'], ['Friday', 'Op...   \n",
       "1     [['Thursday', 'Open 24 hours'], ['Friday', 'Op...   \n",
       "2     [['Thursday', 'Open 24 hours'], ['Friday', 'Op...   \n",
       "3                                                   NaN   \n",
       "4     [['Wednesday', 'Open 24 hours'], ['Thursday', ...   \n",
       "...                                                 ...   \n",
       "3464  [['Saturday', 'Open 24 hours'], ['Sunday', 'Op...   \n",
       "3465                                                NaN   \n",
       "3466  [['Saturday', '5AM–11PM'], ['Sunday', '5AM–11P...   \n",
       "3467  [['Saturday', 'Open 24 hours'], ['Sunday', 'Op...   \n",
       "3468  [['Saturday', 'Open 24 hours'], ['Sunday', 'Op...   \n",
       "\n",
       "                                                    url  \n",
       "0     https://www.google.com/maps/place//data=!4m2!3...  \n",
       "1     https://www.google.com/maps/place//data=!4m2!3...  \n",
       "2     https://www.google.com/maps/place//data=!4m2!3...  \n",
       "3     https://www.google.com/maps/place//data=!4m2!3...  \n",
       "4     https://www.google.com/maps/place//data=!4m2!3...  \n",
       "...                                                 ...  \n",
       "3464  https://www.google.com/maps/place//data=!4m2!3...  \n",
       "3465  https://www.google.com/maps/place//data=!4m2!3...  \n",
       "3466  https://www.google.com/maps/place//data=!4m2!3...  \n",
       "3467  https://www.google.com/maps/place//data=!4m2!3...  \n",
       "3468  https://www.google.com/maps/place//data=!4m2!3...  \n",
       "\n",
       "[3469 rows x 14 columns]"
      ]
     },
     "execution_count": 67,
     "metadata": {},
     "output_type": "execute_result"
    }
   ],
   "source": [
    "# Encontrar el índice de la columna 'tags'\n",
    "tags_index = metadata.columns.get_loc('tags')\n",
    "\n",
    "# Insertar la nueva columna 'categories' antes de 'tags'\n",
    "metadata.insert(tags_index - 1, 'categories', metadata['tags'].apply(encontrar_palabra_clave))\n",
    "\n",
    "# Completar la columna categories con la palabra clave encontrada\n",
    "metadata.loc[:, 'categories'] = metadata['tags'].apply(encontrar_palabra_clave)\n",
    "\n",
    "metadata.reset_index(drop=True)"
   ]
  },
  {
   "cell_type": "markdown",
   "metadata": {},
   "source": [
    "## Review"
   ]
  },
  {
   "cell_type": "code",
   "execution_count": 68,
   "metadata": {},
   "outputs": [],
   "source": [
    "df_review_state = pd.read_csv('review_state_raw.csv')"
   ]
  },
  {
   "cell_type": "markdown",
   "metadata": {},
   "source": [
    "#### Limpieza y transformacion de datos"
   ]
  },
  {
   "cell_type": "code",
   "execution_count": 69,
   "metadata": {
    "tags": []
   },
   "outputs": [],
   "source": [
    "# Funcion para limpiar dataframe\n",
    "def limpiar_dataframe(df):\n",
    "    # Conservar solo las columnas especificadas\n",
    "    df = df[['user_id','name','time','rating','text','gmap_id']]\n",
    "    \n",
    "    # Eliminar filas duplicadas\n",
    "    df = df.drop_duplicates()\n",
    "    \n",
    "    # Eliminar filas completamente nulas\n",
    "    df = df.dropna(how='all')\n",
    "    \n",
    "    # Resetear el índice\n",
    "    df = df.reset_index(drop=True)\n",
    "    \n",
    "    return df"
   ]
  },
  {
   "cell_type": "code",
   "execution_count": 70,
   "metadata": {
    "tags": []
   },
   "outputs": [],
   "source": [
    "# Aplicar la funcion limpiar_dataframe a df_review_state\n",
    "df_review_state = limpiar_dataframe(df_review_state)"
   ]
  },
  {
   "cell_type": "code",
   "execution_count": 71,
   "metadata": {
    "tags": []
   },
   "outputs": [],
   "source": [
    "# Obtener los 'gmap_id' únicos de metadata\n",
    "gmap_ids_metadata = metadata['gmap_id'].unique()\n",
    "\n",
    "# Filtrar los registros de df_review_Florida que coinciden con los 'gmap_id' de metadata\n",
    "df_review_state = df_review_state[df_review_state['gmap_id'].isin(gmap_ids_metadata)]"
   ]
  },
  {
   "cell_type": "code",
   "execution_count": 72,
   "metadata": {
    "tags": []
   },
   "outputs": [],
   "source": [
    "def convertir_timestamp(timestamp):\n",
    "    import datetime\n",
    "    # Convertir milisegundos a segundos y luego crear objeto de fecha y hora\n",
    "    fecha_hora = datetime.datetime.fromtimestamp(timestamp / 1000)\n",
    "    # Redondear para mostrar solo hora, minuto y segundo\n",
    "    fecha_hora_redondeada = fecha_hora.replace(microsecond=0)\n",
    "    return fecha_hora_redondeada"
   ]
  },
  {
   "cell_type": "code",
   "execution_count": 73,
   "metadata": {
    "tags": []
   },
   "outputs": [
    {
     "data": {
      "text/plain": [
       "2803      2019-08-23 10:03:30\n",
       "2804      2019-06-20 17:17:01\n",
       "2805      2017-02-07 19:25:47\n",
       "2806      2017-06-14 17:03:59\n",
       "2807      2017-09-07 21:22:14\n",
       "                  ...        \n",
       "2729422   2019-10-20 18:36:25\n",
       "2729423   2018-05-21 16:56:51\n",
       "2729424   2018-04-09 00:38:20\n",
       "2729425   2018-04-07 12:36:01\n",
       "2729426   2019-01-22 00:27:36\n",
       "Name: time, Length: 92104, dtype: datetime64[ns]"
      ]
     },
     "execution_count": 73,
     "metadata": {},
     "output_type": "execute_result"
    }
   ],
   "source": [
    "# Aplicar la función a la columna 'time' del DataFrame df_review\n",
    "df_review_state['time'] = df_review_state['time'].apply(convertir_timestamp)\n",
    "df_review_state['time']"
   ]
  },
  {
   "cell_type": "code",
   "execution_count": 74,
   "metadata": {
    "tags": []
   },
   "outputs": [
    {
     "data": {
      "text/html": [
       "<div>\n",
       "<style scoped>\n",
       "    .dataframe tbody tr th:only-of-type {\n",
       "        vertical-align: middle;\n",
       "    }\n",
       "\n",
       "    .dataframe tbody tr th {\n",
       "        vertical-align: top;\n",
       "    }\n",
       "\n",
       "    .dataframe thead th {\n",
       "        text-align: right;\n",
       "    }\n",
       "</style>\n",
       "<table border=\"1\" class=\"dataframe\">\n",
       "  <thead>\n",
       "    <tr style=\"text-align: right;\">\n",
       "      <th></th>\n",
       "      <th>user_id</th>\n",
       "      <th>name</th>\n",
       "      <th>stars</th>\n",
       "      <th>text</th>\n",
       "      <th>gmap_id</th>\n",
       "      <th>date</th>\n",
       "      <th>hour</th>\n",
       "    </tr>\n",
       "  </thead>\n",
       "  <tbody>\n",
       "    <tr>\n",
       "      <th>2803</th>\n",
       "      <td>1.035138e+20</td>\n",
       "      <td>Vanessa Calderon</td>\n",
       "      <td>1</td>\n",
       "      <td>I just came in and wished I would have went to...</td>\n",
       "      <td>0x88e76156b262d32b:0x1db1a887284e0fd8</td>\n",
       "      <td>2019-08-23</td>\n",
       "      <td>10:03:30</td>\n",
       "    </tr>\n",
       "    <tr>\n",
       "      <th>2804</th>\n",
       "      <td>1.121645e+20</td>\n",
       "      <td>Georgimar Trujillo Briceno</td>\n",
       "      <td>1</td>\n",
       "      <td>The service of air is bad and tpi is only for ...</td>\n",
       "      <td>0x88e76156b262d32b:0x1db1a887284e0fd8</td>\n",
       "      <td>2019-06-20</td>\n",
       "      <td>17:17:01</td>\n",
       "    </tr>\n",
       "    <tr>\n",
       "      <th>2805</th>\n",
       "      <td>1.092032e+20</td>\n",
       "      <td>Chase Jackson</td>\n",
       "      <td>4</td>\n",
       "      <td>Not a bad place at all.. Now that Wawa is acro...</td>\n",
       "      <td>0x88e76156b262d32b:0x1db1a887284e0fd8</td>\n",
       "      <td>2017-02-07</td>\n",
       "      <td>19:25:47</td>\n",
       "    </tr>\n",
       "    <tr>\n",
       "      <th>2806</th>\n",
       "      <td>1.160331e+20</td>\n",
       "      <td>Carlos A Bonano</td>\n",
       "      <td>5</td>\n",
       "      <td>Excellent customer service.cheap price.</td>\n",
       "      <td>0x88e76156b262d32b:0x1db1a887284e0fd8</td>\n",
       "      <td>2017-06-14</td>\n",
       "      <td>17:03:59</td>\n",
       "    </tr>\n",
       "    <tr>\n",
       "      <th>2807</th>\n",
       "      <td>1.173752e+20</td>\n",
       "      <td>Manuel Camacho</td>\n",
       "      <td>4</td>\n",
       "      <td>NaN</td>\n",
       "      <td>0x88e76156b262d32b:0x1db1a887284e0fd8</td>\n",
       "      <td>2017-09-07</td>\n",
       "      <td>21:22:14</td>\n",
       "    </tr>\n",
       "  </tbody>\n",
       "</table>\n",
       "</div>"
      ],
      "text/plain": [
       "           user_id                        name  stars  \\\n",
       "2803  1.035138e+20            Vanessa Calderon      1   \n",
       "2804  1.121645e+20  Georgimar Trujillo Briceno      1   \n",
       "2805  1.092032e+20               Chase Jackson      4   \n",
       "2806  1.160331e+20             Carlos A Bonano      5   \n",
       "2807  1.173752e+20              Manuel Camacho      4   \n",
       "\n",
       "                                                   text  \\\n",
       "2803  I just came in and wished I would have went to...   \n",
       "2804  The service of air is bad and tpi is only for ...   \n",
       "2805  Not a bad place at all.. Now that Wawa is acro...   \n",
       "2806            Excellent customer service.cheap price.   \n",
       "2807                                                NaN   \n",
       "\n",
       "                                    gmap_id        date      hour  \n",
       "2803  0x88e76156b262d32b:0x1db1a887284e0fd8  2019-08-23  10:03:30  \n",
       "2804  0x88e76156b262d32b:0x1db1a887284e0fd8  2019-06-20  17:17:01  \n",
       "2805  0x88e76156b262d32b:0x1db1a887284e0fd8  2017-02-07  19:25:47  \n",
       "2806  0x88e76156b262d32b:0x1db1a887284e0fd8  2017-06-14  17:03:59  \n",
       "2807  0x88e76156b262d32b:0x1db1a887284e0fd8  2017-09-07  21:22:14  "
      ]
     },
     "execution_count": 74,
     "metadata": {},
     "output_type": "execute_result"
    }
   ],
   "source": [
    "# Dividir la columna 'time' en 'date' y 'HH'\n",
    "df_review_state['date'] = pd.to_datetime(df_review_state['time']).dt.date\n",
    "df_review_state['hour'] = pd.to_datetime(df_review_state['time']).dt.strftime('%H:%M:%S')\n",
    "\n",
    "# Eliminar la columna 'time' \n",
    "del df_review_state['time']\n",
    "\n",
    "# Renombrar columna 'rating' a 'stars'\n",
    "df_review_state.rename(columns={'rating': 'stars'}, inplace=True)\n",
    "\n",
    "# Convertir valores 'stars' a float\n",
    "df_review_state['stars'].astype(float)\n",
    "\n",
    "# Mostrar el DataFrame resultante\n",
    "df_review_state.head()"
   ]
  },
  {
   "cell_type": "code",
   "execution_count": 75,
   "metadata": {},
   "outputs": [],
   "source": [
    "# Convertir la cadena '2021-01-01' a un objeto datetime.date\n",
    "date_threshold = datetime.strptime('2021-01-01', '%Y-%m-%d').date()\n",
    "\n",
    "# Filtrar las filas a partir del 2021 \n",
    "df_review_state = df_review_state[df_review_state['date'] >= date_threshold].reset_index(drop=True)"
   ]
  },
  {
   "cell_type": "markdown",
   "metadata": {},
   "source": [
    "#### Sentiment Analysis"
   ]
  },
  {
   "cell_type": "code",
   "execution_count": 76,
   "metadata": {
    "tags": []
   },
   "outputs": [],
   "source": [
    "# Definir función para obtener la puntuación de sentimiento\n",
    "def get_sentiment_score(text):\n",
    "    if pd.isnull(text) or text == \"\":\n",
    "        return 1  # Valor neutral si el texto está vacío o es NaN\n",
    "    elif isinstance(text, str):\n",
    "        # Crear un objeto TextBlob\n",
    "        blob = TextBlob(text)\n",
    "\n",
    "        # Obtener la puntuación de sentimiento\n",
    "        sentiment_score = blob.sentiment.polarity\n",
    "\n",
    "        # Escalar la puntuación entre 1 y 5\n",
    "        scaled_score = int(round(5 * sentiment_score))\n",
    "\n",
    "        # Asignar la puntuación\n",
    "        if scaled_score <= 2:\n",
    "            return 1\n",
    "        elif scaled_score <= 3:\n",
    "            return 2\n",
    "        elif scaled_score <= 4:\n",
    "            return 3\n",
    "        else:\n",
    "            return 4\n",
    "    else:\n",
    "        return 1  # Valor neutral para datos que no son de tipo cadena\n"
   ]
  },
  {
   "cell_type": "code",
   "execution_count": 77,
   "metadata": {
    "tags": []
   },
   "outputs": [],
   "source": [
    "# Asegurarse de que la columna 'text' sea de tipo cadena\n",
    "df_review_state[\"text\"] = df_review_state[\"text\"].astype(str)\n",
    "\n",
    "# Aplicar la función de análisis de sentimiento a la columna 'text' y crear una nueva columna 'sentiment_analysis'\n",
    "df_review_state[\"sentiment_analysis\"] = df_review_state[\"text\"].apply(get_sentiment_score)\n",
    "\n",
    "# Convertir la columna 'sentiment_analysis' al tipo de dato int\n",
    "df_review_state[\"sentiment_analysis\"] = df_review_state[\"sentiment_analysis\"].astype(int)\n",
    "\n",
    "# Elimnar columna 'text'\n",
    "df_review_state.drop([\"text\"], axis=1, inplace=True)"
   ]
  },
  {
   "cell_type": "code",
   "execution_count": 78,
   "metadata": {
    "tags": []
   },
   "outputs": [
    {
     "name": "stdout",
     "output_type": "stream",
     "text": [
      "<class 'pandas.core.frame.DataFrame'>\n",
      "RangeIndex: 9519 entries, 0 to 9518\n",
      "Data columns (total 7 columns):\n",
      " #   Column              Non-Null Count  Dtype  \n",
      "---  ------              --------------  -----  \n",
      " 0   user_id             9519 non-null   float64\n",
      " 1   name                9519 non-null   object \n",
      " 2   stars               9519 non-null   int64  \n",
      " 3   gmap_id             9519 non-null   object \n",
      " 4   date                9519 non-null   object \n",
      " 5   hour                9519 non-null   object \n",
      " 6   sentiment_analysis  9519 non-null   int32  \n",
      "dtypes: float64(1), int32(1), int64(1), object(4)\n",
      "memory usage: 483.5+ KB\n"
     ]
    }
   ],
   "source": [
    "df_review_state.info()"
   ]
  },
  {
   "cell_type": "markdown",
   "metadata": {},
   "source": [
    "## Exportacion de Datos"
   ]
  },
  {
   "cell_type": "code",
   "execution_count": 79,
   "metadata": {
    "tags": []
   },
   "outputs": [],
   "source": [
    "# Exportacion de datasets resultantes\n",
    "metadata.to_csv('datasets/procesados/metadata_procesado_GoogleMaps.csv', index=False)\n",
    "\n",
    "df_review_state.to_csv('datasets/procesados/review_state_procesado_GoogleMaps.csv', index=False)"
   ]
  }
 ],
 "metadata": {
  "kernelspec": {
   "display_name": "Python 3",
   "language": "python",
   "name": "python3"
  },
  "language_info": {
   "codemirror_mode": {
    "name": "ipython",
    "version": 3
   },
   "file_extension": ".py",
   "mimetype": "text/x-python",
   "name": "python",
   "nbconvert_exporter": "python",
   "pygments_lexer": "ipython3",
   "version": "3.11.8"
  }
 },
 "nbformat": 4,
 "nbformat_minor": 4
}
