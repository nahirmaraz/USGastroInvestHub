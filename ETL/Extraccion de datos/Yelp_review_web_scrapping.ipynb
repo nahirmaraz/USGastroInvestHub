{
 "cells": [
  {
   "cell_type": "markdown",
   "metadata": {},
   "source": [
    "Se hace la busqueda de negocios para los siguientes datos\n",
    "'business_id': review['id'],\n",
    "                'date': review['time_created'],\n",
    "                'rating': review['rating'],\n",
    "                'text': review['text']"
   ]
  },
  {
   "cell_type": "code",
   "execution_count": 95,
   "metadata": {},
   "outputs": [
    {
     "name": "stdout",
     "output_type": "stream",
     "text": [
      "Error al obtener reseñas para el negocio con ID SBrSBlFNRBN0bYI0xz56CQ\n",
      "Se han guardado las reseñas en 'yelp_reviews11.csv'.\n"
     ]
    }
   ],
   "source": [
    "import requests\n",
    "import csv\n",
    "import pandas as pd\n",
    "\n",
    "def obtener_reseñas_yelp(api_key, business_id):\n",
    "    url = f'https://api.yelp.com/v3/businesses/{business_id}/reviews'\n",
    "    headers = {'Authorization': f'Bearer {api_key}'}\n",
    "    response = requests.get(url, headers=headers)\n",
    "    if response.status_code == 200:\n",
    "        data = response.json()['reviews']\n",
    "        return data  # Devolver las reseñas tal como están\n",
    "    else:\n",
    "        print(f'Error al obtener reseñas para el negocio con ID {business_id}')\n",
    "        return []\n",
    "\n",
    "def guardar_reseñas_en_csv(reseñas, csv_filename):\n",
    "    csv_columns = ['business_id', 'date', 'rating', 'text']\n",
    "    with open(csv_filename, 'w', newline='', encoding='utf-8') as csv_file:\n",
    "        writer = csv.DictWriter(csv_file, fieldnames=csv_columns)\n",
    "        writer.writeheader()\n",
    "        for review in reseñas:\n",
    "            writer.writerow({\n",
    "                'business_id': review['id'],\n",
    "                'date': review['time_created'],\n",
    "                'rating': review['rating'],\n",
    "                'text': review['text']\n",
    "            })\n",
    "\n",
    "# API Key de Yelp\n",
    "api_key = '-vuNt5j_G-aFJ3gZmw0l6YfGE3IG3_KHZ_pXCRst5fYZtoZK9KyBr8ObAuWnuLK8L6X06HzxoVmiXrSOxQSc2kXpgYET3V5Vt0gRhmfFxGq18qrbhIbiE2uesrfOZXYx'\n",
    "\n",
    "# Nombre del archivo CSV que contiene los IDs de negocio\n",
    "csv_filename_business_ids = 'archivo_chunk_11.csv'\n",
    "\n",
    "# Nombre del archivo CSV donde se guardarán las reseñas\n",
    "csv_filename_reviews = 'yelp_reviews11.csv'\n",
    "\n",
    "# Leer los IDs de negocio desde el archivo CSV\n",
    "df_business_ids = pd.read_csv(csv_filename_business_ids)\n",
    "business_ids = df_business_ids['business_id']\n",
    "\n",
    "# Lista para almacenar todas las reseñas\n",
    "all_reviews = []\n",
    "\n",
    "# Iterar sobre los IDs de negocio y obtener las reseñas\n",
    "for business_id in business_ids:\n",
    "    reviews = obtener_reseñas_yelp(api_key, business_id)\n",
    "    all_reviews.extend(reviews)\n",
    "\n",
    "# Guardar las reseñas en un archivo CSV\n",
    "guardar_reseñas_en_csv(all_reviews, csv_filename_reviews)\n",
    "\n",
    "print(f\"Se han guardado las reseñas en '{csv_filename_reviews}'.\")"
   ]
  },
  {
   "cell_type": "markdown",
   "metadata": {},
   "source": [
    "Se hace la otra parte de la busqueda para los datos de cada review : Su id y el id del usuario"
   ]
  },
  {
   "cell_type": "code",
   "execution_count": 1,
   "metadata": {},
   "outputs": [
    {
     "name": "stdout",
     "output_type": "stream",
     "text": [
      "ID de la reseña: 2l02e-2QAYZnF0tbZz5a-A\n",
      "ID del usuario: CKBLVYZi8len88s1meKIoA\n",
      "----\n",
      "ID de la reseña: x2ldjXFGq1uW7s0Ktdl2Yg\n",
      "ID del usuario: ntqURA0yzrFadofEZNwIyw\n",
      "----\n",
      "ID de la reseña: khVt8RKpraoAwJg_fMjhIw\n",
      "ID del usuario: UHyquwvf_mI98eNsbIZbng\n",
      "----\n"
     ]
    }
   ],
   "source": [
    "import requests\n",
    "\n",
    "def get_business_reviews(api_key, business_id):\n",
    "    headers = {\n",
    "        'Authorization': f'Bearer {api_key}',\n",
    "    }\n",
    "    url = f'https://api.yelp.com/v3/businesses/{business_id}/reviews'\n",
    "    response = requests.get(url, headers=headers)\n",
    "    if response.status_code == 200:\n",
    "        data = response.json()\n",
    "        if 'reviews' in data:\n",
    "            reviews = data['reviews']\n",
    "            for review in reviews:\n",
    "                review_id = review['id']\n",
    "                user_id = review['user']['id']\n",
    "                print(f\"ID de la reseña: {review_id}\")\n",
    "                print(f\"ID del usuario: {user_id}\")\n",
    "                print(\"----\")\n",
    "        else:\n",
    "            print(\"No se encontraron reseñas para ese negocio.\")\n",
    "    else:\n",
    "        print(\"Error al acceder a la API de Yelp.\")\n",
    "\n",
    "# Credenciales de la API de Yelp\n",
    "api_key = 'Krkpfj-Qbiu_RgnMTY5LoYC8k3zjR585FysmbqaTaQJZplH9Q5evIfDmBlrbFV8Bnw-5B0GY201SOw9rjvuAq_rjSwfNdTxTal2pLBrA6nWOlbPcvrjMCRr3NJPFZXYx'\n",
    "\n",
    "# ID del negocio en Yelp\n",
    "business_id = 'MTSW4McQd7CbVtyjqoe9mw'\n",
    "\n",
    "# Obtener las reseñas del negocio\n",
    "get_business_reviews(api_key, business_id)"
   ]
  },
  {
   "cell_type": "markdown",
   "metadata": {},
   "source": [
    "Se ingresa  todos los Id de los negocios"
   ]
  },
  {
   "cell_type": "code",
   "execution_count": 94,
   "metadata": {},
   "outputs": [
    {
     "name": "stdout",
     "output_type": "stream",
     "text": [
      "Error al acceder a la API de Yelp.\n",
      "Error al acceder a la API de Yelp.\n"
     ]
    }
   ],
   "source": [
    "import csv\n",
    "import requests\n",
    "\n",
    "def get_business_reviews(api_key, business_id):\n",
    "    headers = {\n",
    "        'Authorization': f'Bearer {api_key}',\n",
    "    }\n",
    "    url = f'https://api.yelp.com/v3/businesses/{business_id}/reviews'\n",
    "    response = requests.get(url, headers=headers)\n",
    "    if response.status_code == 200:\n",
    "        data = response.json()\n",
    "        if 'reviews' in data:\n",
    "            reviews = data['reviews']\n",
    "            review_data = []\n",
    "            for review in reviews:\n",
    "                review_id = review['id']\n",
    "                user_id = review['user']['id']\n",
    "                text= review['text']\n",
    "                review_data.append({'Review ID': review_id, 'User ID': user_id,'text': text})\n",
    "            return review_data\n",
    "        else:\n",
    "            return None\n",
    "    else:\n",
    "        print(\"Error al acceder a la API de Yelp.\")\n",
    "        return None\n",
    "\n",
    "# Credenciales de la API de Yelp\n",
    "api_key = 'oFg_7agqBjJyBYYDydlQVNUEoAbg85oejSWstKEdlRHUc3e4euktgOEgicxmAGN3iakBzQm8TiUqQi8qN0E1Mau1IdgvoMqOvJ7_zVKz_w_bbHK-9E1oBaO8CLbOZXYx'\n",
    "\n",
    "# Nombre del archivo CSV que contiene los IDs de negocio\n",
    "csv_filename = 'archivo_chunk_4.csv'\n",
    "\n",
    "# Nombre del archivo CSV para guardar las reseñas\n",
    "output_csv_filename = 'reviews_IDs3.csv'\n",
    "\n",
    "# Abrir el archivo de salida en modo escritura\n",
    "with open(output_csv_filename, 'w', newline='',encoding='utf-8') as csvfile:\n",
    "    fieldnames = ['business_id', 'Review ID', 'User ID','text']\n",
    "    writer = csv.DictWriter(csvfile, fieldnames=fieldnames)\n",
    "    writer.writeheader()\n",
    "\n",
    "    # Leer los IDs de negocio del archivo CSV\n",
    "    with open(csv_filename, newline='') as csvfile:\n",
    "        reader = csv.reader(csvfile)\n",
    "        for row in reader:\n",
    "            business_id = row[0]  # Assuming the business ID is in the first column\n",
    "            # Obtener las reseñas del negocio\n",
    "            reviews = get_business_reviews(api_key, business_id)\n",
    "            if reviews:\n",
    "                for review in reviews:\n",
    "                    review['business_id'] = business_id\n",
    "                    try:\n",
    "                        writer.writerow(review)\n",
    "                    except Exception as e:\n",
    "                        print(\"Error \",e)"
   ]
  },
  {
   "cell_type": "markdown",
   "metadata": {},
   "source": [
    "Se fusionan los dos csv resutlante en solo 1 "
   ]
  },
  {
   "cell_type": "code",
   "execution_count": 136,
   "metadata": {},
   "outputs": [
    {
     "name": "stdout",
     "output_type": "stream",
     "text": [
      "CSV fusionados y guardados como: merged_business_data26.csv\n"
     ]
    }
   ],
   "source": [
    "import pandas as pd\n",
    "\n",
    "# Nombre de los archivos CSV\n",
    "csv1_filename = 'yelp_reviews25.csv'\n",
    "csv2_filename = 'reviews_IDs26.csv'\n",
    "\n",
    "# Cargar los archivos CSV en marcos de datos de pandas\n",
    "df1 = pd.read_csv(csv1_filename)\n",
    "df2 = pd.read_csv(csv2_filename)\n",
    "\n",
    "# Fusionar los marcos de datos en función del valor de las columnas 'Business ID' y 'Text'\n",
    "merged_df = pd.merge(df1, df2, on=['business_id', 'text'])\n",
    "\n",
    "# Guardar el marco de datos fusionado en un nuevo archivo CSV\n",
    "merged_csv_filename = 'merged_business_data26.csv'\n",
    "merged_df.to_csv(merged_csv_filename, index=False)\n",
    "\n",
    "print(\"CSV fusionados y guardados como:\", merged_csv_filename)"
   ]
  },
  {
   "cell_type": "markdown",
   "metadata": {},
   "source": [
    "Se concatena los resultados para los 25 archivos en los que se dividieron para hacer las request en la API de max 450"
   ]
  },
  {
   "cell_type": "code",
   "execution_count": 1,
   "metadata": {},
   "outputs": [],
   "source": [
    "import pandas as pd\n",
    "import glob\n",
    "\n",
    "# Obtener la lista de todos los archivos CSV en el directorio actual\n",
    "file_list = glob.glob('*.csv')\n",
    "\n",
    "# Leer todos los archivos CSV y concatenarlos en uno solo\n",
    "dfs = [pd.read_csv(file) for file in file_list]\n",
    "combined_csv = pd.concat(dfs, ignore_index=True)\n",
    "\n",
    "# Escribir el DataFrame combinado en un nuevo archivo CSV\n",
    "combined_csv.to_csv('Datayelpnewreview_csv.csv', index=False)"
   ]
  },
  {
   "cell_type": "markdown",
   "metadata": {},
   "source": [
    "Se hace el filtrado para data actualizada que va desde 2022 -01-01 hasta actual"
   ]
  },
  {
   "cell_type": "code",
   "execution_count": 2,
   "metadata": {},
   "outputs": [],
   "source": [
    "import pandas as pd\n",
    "\n",
    "# Nombre del archivo CSV\n",
    "csv_filename = 'Datayelpnewreview_csv.csv'\n",
    "\n",
    "# Leer el archivo CSV como un DataFrame\n",
    "df = pd.read_csv(csv_filename)\n",
    "\n",
    "# Convertir la columna 'date' a tipo datetime si no está en ese formato\n",
    "df['date'] = pd.to_datetime(df['date'])\n",
    "\n",
    "# Filtrar las filas para que sean a partir del año 2022-01-01\n",
    "df_filtered = df[df['date'] >= '2022-01-01']\n",
    "\n",
    "# Ahora df_filtered contiene solo las filas con fechas a partir de 2022-01-01"
   ]
  },
  {
   "cell_type": "code",
   "execution_count": 3,
   "metadata": {},
   "outputs": [
    {
     "data": {
      "text/html": [
       "<div>\n",
       "<style scoped>\n",
       "    .dataframe tbody tr th:only-of-type {\n",
       "        vertical-align: middle;\n",
       "    }\n",
       "\n",
       "    .dataframe tbody tr th {\n",
       "        vertical-align: top;\n",
       "    }\n",
       "\n",
       "    .dataframe thead th {\n",
       "        text-align: right;\n",
       "    }\n",
       "</style>\n",
       "<table border=\"1\" class=\"dataframe\">\n",
       "  <thead>\n",
       "    <tr style=\"text-align: right;\">\n",
       "      <th></th>\n",
       "      <th>business_id</th>\n",
       "      <th>date</th>\n",
       "      <th>rating</th>\n",
       "      <th>text</th>\n",
       "      <th>Review ID</th>\n",
       "      <th>User ID</th>\n",
       "    </tr>\n",
       "  </thead>\n",
       "  <tbody>\n",
       "    <tr>\n",
       "      <th>0</th>\n",
       "      <td>MTSW4McQd7CbVtyjqoe9mw</td>\n",
       "      <td>2022-07-25 09:43:43</td>\n",
       "      <td>5</td>\n",
       "      <td>Made a quick trip to Philly to get some eats! ...</td>\n",
       "      <td>2l02e-2QAYZnF0tbZz5a-A</td>\n",
       "      <td>CKBLVYZi8len88s1meKIoA</td>\n",
       "    </tr>\n",
       "    <tr>\n",
       "      <th>12</th>\n",
       "      <td>seKihQKpGGnCeLuELRQPSQ</td>\n",
       "      <td>2024-01-02 13:24:49</td>\n",
       "      <td>4</td>\n",
       "      <td>Stopped by here to meet a friend today, and wa...</td>\n",
       "      <td>OlLOyCe5HzSGjguhlxCXHw</td>\n",
       "      <td>fwHb5reMZek8ictZGVIqpw</td>\n",
       "    </tr>\n",
       "    <tr>\n",
       "      <th>13</th>\n",
       "      <td>seKihQKpGGnCeLuELRQPSQ</td>\n",
       "      <td>2023-12-05 06:44:19</td>\n",
       "      <td>3</td>\n",
       "      <td>Okay 3 starts makes sense to me. We recent cam...</td>\n",
       "      <td>Rn_V4RpuOL6Q133d3PhWLg</td>\n",
       "      <td>adn2YBDMM00Vb048MANwLA</td>\n",
       "    </tr>\n",
       "    <tr>\n",
       "      <th>18</th>\n",
       "      <td>ppFCk9aQkM338Rgwpl2F5A</td>\n",
       "      <td>2022-10-07 09:08:58</td>\n",
       "      <td>4</td>\n",
       "      <td>I dunno who the person was making the meatball...</td>\n",
       "      <td>DCocor_vpqE14Slk-VQV5w</td>\n",
       "      <td>BmVwbsL8l0imz4slonyMaA</td>\n",
       "    </tr>\n",
       "    <tr>\n",
       "      <th>32</th>\n",
       "      <td>QjV4v7q_pt7tt3K1US7IHg</td>\n",
       "      <td>2024-01-08 16:44:49</td>\n",
       "      <td>4</td>\n",
       "      <td>Upon the quest for a satisfying dinner, PDQ be...</td>\n",
       "      <td>aPfGTigSAXpT-duWGztEZg</td>\n",
       "      <td>6xqfTWoTQuWupcJR_95JnQ</td>\n",
       "    </tr>\n",
       "  </tbody>\n",
       "</table>\n",
       "</div>"
      ],
      "text/plain": [
       "               business_id                date  rating  \\\n",
       "0   MTSW4McQd7CbVtyjqoe9mw 2022-07-25 09:43:43       5   \n",
       "12  seKihQKpGGnCeLuELRQPSQ 2024-01-02 13:24:49       4   \n",
       "13  seKihQKpGGnCeLuELRQPSQ 2023-12-05 06:44:19       3   \n",
       "18  ppFCk9aQkM338Rgwpl2F5A 2022-10-07 09:08:58       4   \n",
       "32  QjV4v7q_pt7tt3K1US7IHg 2024-01-08 16:44:49       4   \n",
       "\n",
       "                                                 text               Review ID  \\\n",
       "0   Made a quick trip to Philly to get some eats! ...  2l02e-2QAYZnF0tbZz5a-A   \n",
       "12  Stopped by here to meet a friend today, and wa...  OlLOyCe5HzSGjguhlxCXHw   \n",
       "13  Okay 3 starts makes sense to me. We recent cam...  Rn_V4RpuOL6Q133d3PhWLg   \n",
       "18  I dunno who the person was making the meatball...  DCocor_vpqE14Slk-VQV5w   \n",
       "32  Upon the quest for a satisfying dinner, PDQ be...  aPfGTigSAXpT-duWGztEZg   \n",
       "\n",
       "                   User ID  \n",
       "0   CKBLVYZi8len88s1meKIoA  \n",
       "12  fwHb5reMZek8ictZGVIqpw  \n",
       "13  adn2YBDMM00Vb048MANwLA  \n",
       "18  BmVwbsL8l0imz4slonyMaA  \n",
       "32  6xqfTWoTQuWupcJR_95JnQ  "
      ]
     },
     "execution_count": 3,
     "metadata": {},
     "output_type": "execute_result"
    }
   ],
   "source": [
    "df_filtered.head(5)"
   ]
  },
  {
   "cell_type": "code",
   "execution_count": 4,
   "metadata": {},
   "outputs": [
    {
     "name": "stdout",
     "output_type": "stream",
     "text": [
      "DataFrame filtrado guardado en 'data2022-.csv'.\n"
     ]
    }
   ],
   "source": [
    "# Nombre del archivo CSV de salida\n",
    "csv_output_filename = 'data2022-.csv'\n",
    "\n",
    "# Guardar el DataFrame filtrado en un nuevo archivo CSV\n",
    "df_filtered.to_csv(csv_output_filename, index=False)\n",
    "\n",
    "print(f\"DataFrame filtrado guardado en '{csv_output_filename}'.\")"
   ]
  }
 ],
 "metadata": {
  "kernelspec": {
   "display_name": "Python 3",
   "language": "python",
   "name": "python3"
  },
  "language_info": {
   "codemirror_mode": {
    "name": "ipython",
    "version": 3
   },
   "file_extension": ".py",
   "mimetype": "text/x-python",
   "name": "python",
   "nbconvert_exporter": "python",
   "pygments_lexer": "ipython3",
   "version": "3.10.4"
  }
 },
 "nbformat": 4,
 "nbformat_minor": 2
}
