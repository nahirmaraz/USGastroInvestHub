{
 "cells": [
  {
   "cell_type": "markdown",
   "id": "e419ac27",
   "metadata": {},
   "source": [
    "## ETL Yelp datasets"
   ]
  },
  {
   "cell_type": "code",
   "execution_count": 1,
   "id": "25f45444-897a-4a2a-a463-1cb904b1e8e0",
   "metadata": {
    "tags": []
   },
   "outputs": [],
   "source": [
    "import pickle\n",
    "import io\n",
    "import pandas as pd\n",
    "import json\n",
    "from datetime import datetime\n",
    "import os\n",
    "import ast\n",
    "from textblob import TextBlob"
   ]
  },
  {
   "cell_type": "markdown",
   "id": "67ea0c8f",
   "metadata": {},
   "source": [
    "# Business"
   ]
  },
  {
   "cell_type": "code",
   "execution_count": 18,
   "id": "933f8045",
   "metadata": {},
   "outputs": [],
   "source": [
    "# Leer Archivo business.pkl\n",
    "df_business = pd.read_pickle('datasets/Raw/business.pkl')"
   ]
  },
  {
   "cell_type": "code",
   "execution_count": 154,
   "id": "ccbe698f-fa64-4580-8787-a1bdad984f01",
   "metadata": {
    "tags": []
   },
   "outputs": [],
   "source": [
    "# Crear un contador para el sufijo\n",
    "suffix_counter = {}\n",
    "\n",
    "# Renombrar las columnas agregando sufijos\n",
    "new_columns = []\n",
    "for col in df_business.columns:\n",
    "    if col in suffix_counter:\n",
    "        # Columna duplicada: agregar sufijo '_duplicada'\n",
    "        new_col = col + '_duplicada'\n",
    "    else:\n",
    "        # Columna no duplicada: agregar sufijo '_1' y actualizar contador\n",
    "        suffix_counter[col] = 1\n",
    "        new_col = col + ''\n",
    "    new_columns.append(new_col)\n",
    "\n",
    "# Asignar los nuevos nombres de columna al DataFrame\n",
    "df_business.columns = new_columns"
   ]
  },
  {
   "cell_type": "code",
   "execution_count": 155,
   "id": "9744f33a-eab6-4ea9-8244-dab7976b66fe",
   "metadata": {
    "tags": []
   },
   "outputs": [],
   "source": [
    "# Filtrar las columnas que contienen la palabra \"duplicada\" en su nombre\n",
    "columnas_a_eliminar = [col for col in df_business.columns if 'duplicada' in col]\n",
    "\n",
    "# Eliminar las columnas seleccionadas del DataFrame\n",
    "df_business = df_business.drop(columns=columnas_a_eliminar)"
   ]
  },
  {
   "cell_type": "code",
   "execution_count": 156,
   "id": "c3e75b6f-b3b2-478d-8ede-2f232a58395d",
   "metadata": {
    "tags": []
   },
   "outputs": [
    {
     "data": {
      "text/html": [
       "<div>\n",
       "<style scoped>\n",
       "    .dataframe tbody tr th:only-of-type {\n",
       "        vertical-align: middle;\n",
       "    }\n",
       "\n",
       "    .dataframe tbody tr th {\n",
       "        vertical-align: top;\n",
       "    }\n",
       "\n",
       "    .dataframe thead th {\n",
       "        text-align: right;\n",
       "    }\n",
       "</style>\n",
       "<table border=\"1\" class=\"dataframe\">\n",
       "  <thead>\n",
       "    <tr style=\"text-align: right;\">\n",
       "      <th></th>\n",
       "      <th>business_id</th>\n",
       "      <th>name</th>\n",
       "      <th>address</th>\n",
       "      <th>city</th>\n",
       "      <th>state</th>\n",
       "      <th>postal_code</th>\n",
       "      <th>latitude</th>\n",
       "      <th>longitude</th>\n",
       "      <th>stars</th>\n",
       "      <th>review_count</th>\n",
       "      <th>is_open</th>\n",
       "      <th>attributes</th>\n",
       "      <th>categories</th>\n",
       "      <th>hours</th>\n",
       "    </tr>\n",
       "  </thead>\n",
       "  <tbody>\n",
       "    <tr>\n",
       "      <th>0</th>\n",
       "      <td>Pns2l4eNsfO8kk83dixA6A</td>\n",
       "      <td>Abby Rappoport, LAC, CMQ</td>\n",
       "      <td>1616 Chapala St, Ste 2</td>\n",
       "      <td>Santa Barbara</td>\n",
       "      <td>NaN</td>\n",
       "      <td>93101</td>\n",
       "      <td>34.426679</td>\n",
       "      <td>-119.711197</td>\n",
       "      <td>5.0</td>\n",
       "      <td>7</td>\n",
       "      <td>0</td>\n",
       "      <td>{'ByAppointmentOnly': 'True'}</td>\n",
       "      <td>Doctors, Traditional Chinese Medicine, Naturop...</td>\n",
       "      <td>None</td>\n",
       "    </tr>\n",
       "    <tr>\n",
       "      <th>1</th>\n",
       "      <td>mpf3x-BjTdTEA3yCZrAYPw</td>\n",
       "      <td>The UPS Store</td>\n",
       "      <td>87 Grasso Plaza Shopping Center</td>\n",
       "      <td>Affton</td>\n",
       "      <td>NaN</td>\n",
       "      <td>63123</td>\n",
       "      <td>38.551126</td>\n",
       "      <td>-90.335695</td>\n",
       "      <td>3.0</td>\n",
       "      <td>15</td>\n",
       "      <td>1</td>\n",
       "      <td>{'BusinessAcceptsCreditCards': 'True'}</td>\n",
       "      <td>Shipping Centers, Local Services, Notaries, Ma...</td>\n",
       "      <td>{'Monday': '0:0-0:0', 'Tuesday': '8:0-18:30', ...</td>\n",
       "    </tr>\n",
       "    <tr>\n",
       "      <th>2</th>\n",
       "      <td>tUFrWirKiKi_TAnsVWINQQ</td>\n",
       "      <td>Target</td>\n",
       "      <td>5255 E Broadway Blvd</td>\n",
       "      <td>Tucson</td>\n",
       "      <td>NaN</td>\n",
       "      <td>85711</td>\n",
       "      <td>32.223236</td>\n",
       "      <td>-110.880452</td>\n",
       "      <td>3.5</td>\n",
       "      <td>22</td>\n",
       "      <td>0</td>\n",
       "      <td>{'BikeParking': 'True', 'BusinessAcceptsCredit...</td>\n",
       "      <td>Department Stores, Shopping, Fashion, Home &amp; G...</td>\n",
       "      <td>{'Monday': '8:0-22:0', 'Tuesday': '8:0-22:0', ...</td>\n",
       "    </tr>\n",
       "    <tr>\n",
       "      <th>3</th>\n",
       "      <td>MTSW4McQd7CbVtyjqoe9mw</td>\n",
       "      <td>St Honore Pastries</td>\n",
       "      <td>935 Race St</td>\n",
       "      <td>Philadelphia</td>\n",
       "      <td>CA</td>\n",
       "      <td>19107</td>\n",
       "      <td>39.955505</td>\n",
       "      <td>-75.155564</td>\n",
       "      <td>4.0</td>\n",
       "      <td>80</td>\n",
       "      <td>1</td>\n",
       "      <td>{'RestaurantsDelivery': 'False', 'OutdoorSeati...</td>\n",
       "      <td>Restaurants, Food, Bubble Tea, Coffee &amp; Tea, B...</td>\n",
       "      <td>{'Monday': '7:0-20:0', 'Tuesday': '7:0-20:0', ...</td>\n",
       "    </tr>\n",
       "    <tr>\n",
       "      <th>4</th>\n",
       "      <td>mWMc6_wTdE0EUBKIGXDVfA</td>\n",
       "      <td>Perkiomen Valley Brewery</td>\n",
       "      <td>101 Walnut St</td>\n",
       "      <td>Green Lane</td>\n",
       "      <td>MO</td>\n",
       "      <td>18054</td>\n",
       "      <td>40.338183</td>\n",
       "      <td>-75.471659</td>\n",
       "      <td>4.5</td>\n",
       "      <td>13</td>\n",
       "      <td>1</td>\n",
       "      <td>{'BusinessAcceptsCreditCards': 'True', 'Wheelc...</td>\n",
       "      <td>Brewpubs, Breweries, Food</td>\n",
       "      <td>{'Wednesday': '14:0-22:0', 'Thursday': '16:0-2...</td>\n",
       "    </tr>\n",
       "  </tbody>\n",
       "</table>\n",
       "</div>"
      ],
      "text/plain": [
       "              business_id                      name  \\\n",
       "0  Pns2l4eNsfO8kk83dixA6A  Abby Rappoport, LAC, CMQ   \n",
       "1  mpf3x-BjTdTEA3yCZrAYPw             The UPS Store   \n",
       "2  tUFrWirKiKi_TAnsVWINQQ                    Target   \n",
       "3  MTSW4McQd7CbVtyjqoe9mw        St Honore Pastries   \n",
       "4  mWMc6_wTdE0EUBKIGXDVfA  Perkiomen Valley Brewery   \n",
       "\n",
       "                           address           city state postal_code  \\\n",
       "0           1616 Chapala St, Ste 2  Santa Barbara   NaN       93101   \n",
       "1  87 Grasso Plaza Shopping Center         Affton   NaN       63123   \n",
       "2             5255 E Broadway Blvd         Tucson   NaN       85711   \n",
       "3                      935 Race St   Philadelphia    CA       19107   \n",
       "4                    101 Walnut St     Green Lane    MO       18054   \n",
       "\n",
       "    latitude   longitude stars review_count is_open  \\\n",
       "0  34.426679 -119.711197   5.0            7       0   \n",
       "1  38.551126  -90.335695   3.0           15       1   \n",
       "2  32.223236 -110.880452   3.5           22       0   \n",
       "3  39.955505  -75.155564   4.0           80       1   \n",
       "4  40.338183  -75.471659   4.5           13       1   \n",
       "\n",
       "                                          attributes  \\\n",
       "0                      {'ByAppointmentOnly': 'True'}   \n",
       "1             {'BusinessAcceptsCreditCards': 'True'}   \n",
       "2  {'BikeParking': 'True', 'BusinessAcceptsCredit...   \n",
       "3  {'RestaurantsDelivery': 'False', 'OutdoorSeati...   \n",
       "4  {'BusinessAcceptsCreditCards': 'True', 'Wheelc...   \n",
       "\n",
       "                                          categories  \\\n",
       "0  Doctors, Traditional Chinese Medicine, Naturop...   \n",
       "1  Shipping Centers, Local Services, Notaries, Ma...   \n",
       "2  Department Stores, Shopping, Fashion, Home & G...   \n",
       "3  Restaurants, Food, Bubble Tea, Coffee & Tea, B...   \n",
       "4                          Brewpubs, Breweries, Food   \n",
       "\n",
       "                                               hours  \n",
       "0                                               None  \n",
       "1  {'Monday': '0:0-0:0', 'Tuesday': '8:0-18:30', ...  \n",
       "2  {'Monday': '8:0-22:0', 'Tuesday': '8:0-22:0', ...  \n",
       "3  {'Monday': '7:0-20:0', 'Tuesday': '7:0-20:0', ...  \n",
       "4  {'Wednesday': '14:0-22:0', 'Thursday': '16:0-2...  "
      ]
     },
     "execution_count": 156,
     "metadata": {},
     "output_type": "execute_result"
    }
   ],
   "source": [
    "df_business.head()"
   ]
  },
  {
   "cell_type": "code",
   "execution_count": 157,
   "id": "781bb1e7-69b8-46a5-aadc-e6cb89754231",
   "metadata": {
    "tags": []
   },
   "outputs": [
    {
     "name": "stdout",
     "output_type": "stream",
     "text": [
      "0\n"
     ]
    }
   ],
   "source": [
    "duplicates_business = df_business.duplicated('business_id')\n",
    "print(duplicates_business.sum())"
   ]
  },
  {
   "cell_type": "code",
   "execution_count": 158,
   "id": "4d60519f-00e1-4fd9-8941-653c5f1d31f9",
   "metadata": {
    "tags": []
   },
   "outputs": [
    {
     "name": "stdout",
     "output_type": "stream",
     "text": [
      "[nan 'CA' 'MO' 'AZ' 'PA' 'TN' 'FL' 'IN' 'LA' 'AB' 'NV' 'ID' 'DE' 'IL' 'NJ'\n",
      " 'NC' 'CO' 'WA' 'HI' 'UT' 'TX' 'MT' 'MI' 'SD' 'XMS' 'MA' 'VI' 'VT']\n"
     ]
    }
   ],
   "source": [
    "# Estados contenidos en 'state'\n",
    "print(df_business['state'].unique())"
   ]
  },
  {
   "cell_type": "code",
   "execution_count": 159,
   "id": "c96194db-42ca-4c8b-94be-61dca0f9b645",
   "metadata": {
    "tags": []
   },
   "outputs": [],
   "source": [
    "# Filtar registros de Florida\n",
    "df_business = df_business.loc[df_business['state'] == 'FL']"
   ]
  },
  {
   "cell_type": "code",
   "execution_count": 160,
   "id": "8d58087a-b303-4db3-82f2-60a761969839",
   "metadata": {
    "tags": []
   },
   "outputs": [
    {
     "data": {
      "text/plain": [
       "business_id        0\n",
       "name               0\n",
       "address            0\n",
       "city               0\n",
       "state              0\n",
       "postal_code        0\n",
       "latitude           0\n",
       "longitude          0\n",
       "stars              0\n",
       "review_count       0\n",
       "is_open            0\n",
       "attributes      2446\n",
       "categories        18\n",
       "hours           4108\n",
       "dtype: int64"
      ]
     },
     "execution_count": 160,
     "metadata": {},
     "output_type": "execute_result"
    }
   ],
   "source": [
    "df_business.isna().sum()"
   ]
  },
  {
   "cell_type": "code",
   "execution_count": 161,
   "id": "b266134d-c455-4f2b-934f-86b61743160e",
   "metadata": {
    "tags": []
   },
   "outputs": [
    {
     "name": "stdout",
     "output_type": "stream",
     "text": [
      "Columnas a eliminar:\n",
      "is_open\n",
      "attributes\n"
     ]
    }
   ],
   "source": [
    "# Lista de columnas permitidas en el orden deseado\n",
    "columnas_permitidas = ['business_id', 'name', 'address', 'city', 'state', 'postal_code', 'latitude', 'longitude', 'stars', 'review_count', 'categories', 'hours']\n",
    "\n",
    "# Filtrar las columnas que se van a eliminar\n",
    "columnas_a_eliminar = [col for col in df_business.columns if col not in columnas_permitidas]\n",
    "\n",
    "# Imprimir las columnas que se eliminarán\n",
    "print(\"Columnas a eliminar:\")\n",
    "for col in columnas_a_eliminar:\n",
    "    print(col)\n",
    "\n",
    "# Filtrar las columnas permitidas\n",
    "df_business = df_business[columnas_permitidas]"
   ]
  },
  {
   "cell_type": "code",
   "execution_count": 162,
   "id": "00244723",
   "metadata": {},
   "outputs": [],
   "source": [
    "# Renombrar columna 'category' a 'tags'\n",
    "df_business.rename(columns={'categories': 'tags'}, inplace=True)"
   ]
  },
  {
   "cell_type": "code",
   "execution_count": 163,
   "id": "4a730a81",
   "metadata": {},
   "outputs": [],
   "source": [
    "# Convertir valores a float\n",
    "df_business['latitude'] = df_business['latitude'].astype(float)\n",
    "df_business['longitude'] = df_business['longitude'].astype(float)\n",
    "df_business['stars'] = df_business['stars'].astype(float)"
   ]
  },
  {
   "cell_type": "code",
   "execution_count": 164,
   "id": "90006a03-2e7c-4111-b872-5536f66f3b7a",
   "metadata": {
    "tags": []
   },
   "outputs": [
    {
     "name": "stdout",
     "output_type": "stream",
     "text": [
      "<class 'pandas.core.frame.DataFrame'>\n",
      "Index: 26329 entries, 10 to 150320\n",
      "Data columns (total 12 columns):\n",
      " #   Column        Non-Null Count  Dtype  \n",
      "---  ------        --------------  -----  \n",
      " 0   business_id   26329 non-null  object \n",
      " 1   name          26329 non-null  object \n",
      " 2   address       26329 non-null  object \n",
      " 3   city          26329 non-null  object \n",
      " 4   state         26329 non-null  object \n",
      " 5   postal_code   26329 non-null  object \n",
      " 6   latitude      26329 non-null  float64\n",
      " 7   longitude     26329 non-null  float64\n",
      " 8   stars         26329 non-null  float64\n",
      " 9   review_count  26329 non-null  object \n",
      " 10  tags          26311 non-null  object \n",
      " 11  hours         22221 non-null  object \n",
      "dtypes: float64(3), object(9)\n",
      "memory usage: 2.6+ MB\n"
     ]
    }
   ],
   "source": [
    "df_business.info()"
   ]
  },
  {
   "cell_type": "code",
   "execution_count": 165,
   "id": "7cbcca62",
   "metadata": {},
   "outputs": [],
   "source": [
    "# Eliminar los registros con valores nulos en la columna 'tags'\n",
    "df_business.dropna(subset=['tags'], inplace=True)"
   ]
  },
  {
   "cell_type": "markdown",
   "id": "754fe8b2",
   "metadata": {},
   "source": [
    "#### Filtros"
   ]
  },
  {
   "cell_type": "code",
   "execution_count": 166,
   "id": "f76ae5c0",
   "metadata": {},
   "outputs": [],
   "source": [
    "# Lista de palabras clave gatronomia\n",
    "gastronomia = ['Restaurant', 'Restaurants','Food','Bars','Bar','Café','Coffeehouse','Bistro','Tavern','Buffet','Brewpub','Pub','Brasserie','Specialty Coffee Shop','Pub','Churrería','Diner','Dining','Teahouse','Tea Room','Gas Station', 'Gas','Fuel Station','Fuel']\n",
    "\n",
    "# Filtrar los registros que contienen al menos una palabra clave en 'tags'\n",
    "df_business_gastronomia = df_business[df_business['tags'].str.contains('|'.join(gastronomia))]\n",
    "\n",
    "# Lista de palabras clave comida ethnica\n",
    "comida_ethnica = ['Chinese','Indian','Thai','Italian','Greek','Helthy','Helth','Latin','Mexican','Tacos','Burritos','Enchiladas','Argentinian','Vegan','Vegetarian','Peruvian','Ceviche','Lomo','Pisco','Colombian','Empanadas','Arepas','Asian','Japanese','Sushi','Ramen','Sashimi','Tempura','Korean','Kimchi','Vietnamese','African','Ethiopian','Nigerian','Middle Eastern','Lebanese','Hummus','Falafel','Shawarma','Tabbouleh','Israeli','Shakshuka','Falafel','Hummus','Iranian','Healthy','Vegetarian','Vegan','Gas Station', 'Gas','Fuel Station','Fuel']\n",
    "\n",
    "# Filtrar los registros que contienen al menos una palabra clave en 'tags'\n",
    "df_business_ethnica = df_business_gastronomia[df_business_gastronomia['tags'].str.contains('|'.join(comida_ethnica))]"
   ]
  },
  {
   "cell_type": "code",
   "execution_count": 167,
   "id": "f3ee9475",
   "metadata": {},
   "outputs": [
    {
     "data": {
      "text/html": [
       "<div>\n",
       "<style scoped>\n",
       "    .dataframe tbody tr th:only-of-type {\n",
       "        vertical-align: middle;\n",
       "    }\n",
       "\n",
       "    .dataframe tbody tr th {\n",
       "        vertical-align: top;\n",
       "    }\n",
       "\n",
       "    .dataframe thead th {\n",
       "        text-align: right;\n",
       "    }\n",
       "</style>\n",
       "<table border=\"1\" class=\"dataframe\">\n",
       "  <thead>\n",
       "    <tr style=\"text-align: right;\">\n",
       "      <th></th>\n",
       "      <th>business_id</th>\n",
       "      <th>name</th>\n",
       "      <th>address</th>\n",
       "      <th>city</th>\n",
       "      <th>state</th>\n",
       "      <th>postal_code</th>\n",
       "      <th>latitude</th>\n",
       "      <th>longitude</th>\n",
       "      <th>stars</th>\n",
       "      <th>review_count</th>\n",
       "      <th>tags</th>\n",
       "      <th>hours</th>\n",
       "    </tr>\n",
       "  </thead>\n",
       "  <tbody>\n",
       "    <tr>\n",
       "      <th>82</th>\n",
       "      <td>ppFCk9aQkM338Rgwpl2F5A</td>\n",
       "      <td>Wawa</td>\n",
       "      <td>3604 Chestnut St</td>\n",
       "      <td>Philadelphia</td>\n",
       "      <td>FL</td>\n",
       "      <td>19104</td>\n",
       "      <td>39.954573</td>\n",
       "      <td>-75.194894</td>\n",
       "      <td>3.0</td>\n",
       "      <td>56</td>\n",
       "      <td>Restaurants, Automotive, Delis, Gas Stations, ...</td>\n",
       "      <td>{'Monday': '0:0-0:0', 'Tuesday': '0:0-0:0', 'W...</td>\n",
       "    </tr>\n",
       "    <tr>\n",
       "      <th>200</th>\n",
       "      <td>vPcfJ3rm3NpdqVDod2WxLA</td>\n",
       "      <td>China Pearl</td>\n",
       "      <td>2E Summit Sq Shopping Ctr</td>\n",
       "      <td>Langhorne</td>\n",
       "      <td>FL</td>\n",
       "      <td>19047</td>\n",
       "      <td>40.217784</td>\n",
       "      <td>-74.926586</td>\n",
       "      <td>1.5</td>\n",
       "      <td>27</td>\n",
       "      <td>Japanese, Chinese, Restaurants, Thai</td>\n",
       "      <td>{'Monday': '11:0-22:0', 'Tuesday': '11:0-22:0'...</td>\n",
       "    </tr>\n",
       "    <tr>\n",
       "      <th>348</th>\n",
       "      <td>OfW-VK04qr7b7bPm5QbyLg</td>\n",
       "      <td>Taqueria Feliz</td>\n",
       "      <td>303 Horsham Rd</td>\n",
       "      <td>Horsham</td>\n",
       "      <td>FL</td>\n",
       "      <td>19044</td>\n",
       "      <td>40.180727</td>\n",
       "      <td>-75.134699</td>\n",
       "      <td>3.0</td>\n",
       "      <td>77</td>\n",
       "      <td>Mexican, Pizza, Restaurants</td>\n",
       "      <td>{'Monday': '11:30-21:0', 'Tuesday': '11:30-21:...</td>\n",
       "    </tr>\n",
       "  </tbody>\n",
       "</table>\n",
       "</div>"
      ],
      "text/plain": [
       "                business_id            name                    address  \\\n",
       "82   ppFCk9aQkM338Rgwpl2F5A            Wawa           3604 Chestnut St   \n",
       "200  vPcfJ3rm3NpdqVDod2WxLA     China Pearl  2E Summit Sq Shopping Ctr   \n",
       "348  OfW-VK04qr7b7bPm5QbyLg  Taqueria Feliz             303 Horsham Rd   \n",
       "\n",
       "             city state postal_code   latitude  longitude  stars review_count  \\\n",
       "82   Philadelphia    FL       19104  39.954573 -75.194894    3.0           56   \n",
       "200     Langhorne    FL       19047  40.217784 -74.926586    1.5           27   \n",
       "348       Horsham    FL       19044  40.180727 -75.134699    3.0           77   \n",
       "\n",
       "                                                  tags  \\\n",
       "82   Restaurants, Automotive, Delis, Gas Stations, ...   \n",
       "200               Japanese, Chinese, Restaurants, Thai   \n",
       "348                        Mexican, Pizza, Restaurants   \n",
       "\n",
       "                                                 hours  \n",
       "82   {'Monday': '0:0-0:0', 'Tuesday': '0:0-0:0', 'W...  \n",
       "200  {'Monday': '11:0-22:0', 'Tuesday': '11:0-22:0'...  \n",
       "348  {'Monday': '11:30-21:0', 'Tuesday': '11:30-21:...  "
      ]
     },
     "execution_count": 167,
     "metadata": {},
     "output_type": "execute_result"
    }
   ],
   "source": [
    "# Filtrar los registros donde 'name' se repite más de una vez\n",
    "# Estos registros se consideraran como franquicias al identificarse con el mismo nombre y encontrarse en distintas locaciones\n",
    "df_business = df_business_ethnica[df_business_ethnica.duplicated(subset='name', keep=False)]\n",
    "df_business.head(3)"
   ]
  },
  {
   "cell_type": "code",
   "execution_count": 168,
   "id": "627bcb61",
   "metadata": {},
   "outputs": [],
   "source": [
    "# Función para encontrar palabras clave en la columna 'tags' y simplificar clasificacion restaurantes\n",
    "\n",
    "def encontrar_palabra_clave(tags):\n",
    "\n",
    "    # Lista de palabras clave que determian categorias mas abarcativas/comunes\n",
    "    palabras_clave = ['Chinese','Indian','Thai','Italian','Greek','Mexican','Argentinian','Peruvian','Colombian','Japanese','Korean','Vietnamese','Ethiopian','Nigerian','Lebanese','Israeli','Iranian','Latin','Asian','African','Middle Eastern','Healthy','Vegetarian','Vegan','Casual','Gas Station']\n",
    "    # Diccionario para determinar categoria segun palabras claves secundarias\n",
    "    sub_tags = {  'Mexican' : ['Tacos','Burritos','Enchiladas'],\n",
    "                        'Perubian' : ['Ceviche','Pisco'],\n",
    "                        'Argentinian' : ['Asado','Locro','Dulce de Leche','Choripan'],\n",
    "                        'Colombian' : ['Arepas'],\n",
    "                        'Latin' : ['Empanadas','Lomo'],\n",
    "                        'Asian' : ['Sushi','Ramen','Pan-Asian'],\n",
    "                        'Korean' : ['Kimchi'],\n",
    "                        'Japanese' : ['Sashimi','Tempura'],\n",
    "                        'Middle_astern' : ['Hummus','Falafel','Shawarma','Tabbouleh'],\n",
    "                        'Israeli' : ['Shakshuka'],\n",
    "                        'Gas Station' : ['Gas', 'Gas Station', 'Convenience Store', 'Atm', 'Coffee Shop','Fuel Supplier','Fuel']}\n",
    "\n",
    "\n",
    "    # Buscar en palabras_clave\n",
    "    for palabra in palabras_clave:\n",
    "        if palabra in tags:\n",
    "            return palabra\n",
    "    \n",
    "    # Buscar en sub_tags\n",
    "    for clave, valor in sub_tags.items():\n",
    "        if any(sub_categoria in tags for sub_categoria in valor):\n",
    "            return clave\n",
    "        \n",
    "    # Para aquellos registros donde se etiquete como desconocido, revisar columna tags para agregar etiquetas al diccionario sub_categories y poder reclasificarlo\n",
    "    return 'Desconocido'\n"
   ]
  },
  {
   "cell_type": "code",
   "execution_count": null,
   "id": "41c7b5e3",
   "metadata": {},
   "outputs": [],
   "source": [
    "# Encontrar el índice de la columna 'tags'\n",
    "tags_index = df_business.columns.get_loc('tags')\n",
    "\n",
    "# Insertar la nueva columna 'categories' antes de 'tags'\n",
    "df_business.insert(tags_index - 1, 'categories', df_business['tags'].apply(encontrar_palabra_clave))\n",
    "\n",
    "# Completar la columna categories con la palabra clave encontrada\n",
    "df_business.loc[:, 'categories'] = df_business['tags'].apply(encontrar_palabra_clave)"
   ]
  },
  {
   "cell_type": "code",
   "execution_count": 144,
   "id": "e6385865",
   "metadata": {},
   "outputs": [],
   "source": [
    "df_business.reset_index(drop=True, inplace=True)"
   ]
  },
  {
   "cell_type": "code",
   "execution_count": 170,
   "id": "bf61d164",
   "metadata": {},
   "outputs": [],
   "source": [
    "# Exportar business dataset como csv\n",
    "df_business.to_csv('datasets/procesados/Yelp_business_procesado.csv', index=False)"
   ]
  },
  {
   "cell_type": "markdown",
   "id": "ca281a10-e900-4586-9405-d87afe100511",
   "metadata": {
    "tags": []
   },
   "source": [
    "# Check-in"
   ]
  },
  {
   "cell_type": "code",
   "execution_count": 171,
   "id": "5a44a7cc",
   "metadata": {},
   "outputs": [],
   "source": [
    "# Path a checkin.json\n",
    "file_path = os.path.join('datasets/Raw/checkin.json')\n",
    "\n",
    "# Inicializar lista vacia check_in_row\n",
    "check_in_row = []\n",
    "\n",
    "# Abrir archivo JSON comprimido en read-text mode with UTF-8 encoding\n",
    "with open(file_path, 'rt', encoding='utf-8') as file:\n",
    "    # Iterate over each line in the file\n",
    "    for line in file.readlines():\n",
    "        # Usar ast.literal_eval para convertir cada linea JSON a Python dict\n",
    "        check_in = ast.literal_eval(line)\n",
    "        check_in_row.append(check_in)\n",
    "\n",
    "# Crear rDataFrame con lista de diccinarios\n",
    "df_check_in = pd.DataFrame(check_in_row)"
   ]
  },
  {
   "cell_type": "code",
   "execution_count": 172,
   "id": "e28fc4a3-d5be-4d6d-933c-3974b6345ed2",
   "metadata": {
    "tags": []
   },
   "outputs": [
    {
     "name": "stdout",
     "output_type": "stream",
     "text": [
      "<class 'pandas.core.frame.DataFrame'>\n",
      "RangeIndex: 131930 entries, 0 to 131929\n",
      "Data columns (total 2 columns):\n",
      " #   Column       Non-Null Count   Dtype \n",
      "---  ------       --------------   ----- \n",
      " 0   business_id  131930 non-null  object\n",
      " 1   date         131930 non-null  object\n",
      "dtypes: object(2)\n",
      "memory usage: 2.0+ MB\n"
     ]
    }
   ],
   "source": [
    "df_check_in.info()"
   ]
  },
  {
   "cell_type": "code",
   "execution_count": 173,
   "id": "808cd9cc-d19d-4202-97d6-17a57b7dbcc2",
   "metadata": {
    "tags": []
   },
   "outputs": [],
   "source": [
    "# Filtrar df_check_in basado en los business_id de df_business\n",
    "df_check_in = df_check_in[df_check_in['business_id'].isin(df_business['business_id'])]"
   ]
  },
  {
   "cell_type": "code",
   "execution_count": 174,
   "id": "2f975de1-d884-4173-b979-bdc1e8f375b5",
   "metadata": {
    "tags": []
   },
   "outputs": [],
   "source": [
    "# Función para normalizar una fecha individual en una cadena con múltiples fechas\n",
    "def normalize_dates(date_str):\n",
    "    dates_list = date_str.split(\", \")\n",
    "    return [datetime.strptime(date, '%Y-%m-%d %H:%M:%S') for date in dates_list]\n",
    "\n",
    "# Normalizar la columna 'date' que contiene múltiples fechas en una sola cadena\n",
    "df_check_in['date'] = df_check_in['date'].apply(normalize_dates)\n",
    "\n",
    "# Explode la lista de fechas normalizadas en múltiples filas\n",
    "df_check_in = df_check_in.explode('date')"
   ]
  },
  {
   "cell_type": "code",
   "execution_count": 175,
   "id": "33fc0728-ce2b-4ec6-bf22-164506679007",
   "metadata": {
    "tags": []
   },
   "outputs": [],
   "source": [
    "# Renombrar la columna 'date' a 'date_and_hour'\n",
    "df_check_in.rename(columns={'date': 'date_and_hour'}, inplace=True)\n",
    "\n",
    "# Convertir la columna 'date_and_hour' a formato de cadena de texto\n",
    "df_check_in['date_and_hour'] = df_check_in['date_and_hour'].astype(str)\n",
    "\n",
    "# Dividir la columna 'date_and_hour' en dos nuevas columnas: 'date' y 'hour'\n",
    "df_check_in[['date', 'hour']] = df_check_in['date_and_hour'].str.split(' ', expand=True)\n",
    "\n",
    "# Convertir las columnas 'date' y 'hour' al formato datetime\n",
    "df_check_in['date'] = pd.to_datetime(df_check_in['date'])\n",
    "df_check_in['hour'] = pd.to_datetime(df_check_in['hour'], format='%H:%M:%S').dt.time\n",
    "\n",
    "# Eliminar la columna 'date_and_hour'\n",
    "df_check_in.drop(columns=['date_and_hour'], inplace=True)"
   ]
  },
  {
   "cell_type": "code",
   "execution_count": 176,
   "id": "b7e53f45",
   "metadata": {},
   "outputs": [
    {
     "data": {
      "text/html": [
       "<div>\n",
       "<style scoped>\n",
       "    .dataframe tbody tr th:only-of-type {\n",
       "        vertical-align: middle;\n",
       "    }\n",
       "\n",
       "    .dataframe tbody tr th {\n",
       "        vertical-align: top;\n",
       "    }\n",
       "\n",
       "    .dataframe thead th {\n",
       "        text-align: right;\n",
       "    }\n",
       "</style>\n",
       "<table border=\"1\" class=\"dataframe\">\n",
       "  <thead>\n",
       "    <tr style=\"text-align: right;\">\n",
       "      <th></th>\n",
       "      <th>business_id</th>\n",
       "      <th>date</th>\n",
       "      <th>hour</th>\n",
       "    </tr>\n",
       "  </thead>\n",
       "  <tbody>\n",
       "    <tr>\n",
       "      <th>0</th>\n",
       "      <td>-K_FDDqmOt6hJLTOPgpnlA</td>\n",
       "      <td>2021-04-04</td>\n",
       "      <td>00:04:53</td>\n",
       "    </tr>\n",
       "    <tr>\n",
       "      <th>1</th>\n",
       "      <td>-K_FDDqmOt6hJLTOPgpnlA</td>\n",
       "      <td>2021-06-13</td>\n",
       "      <td>23:23:27</td>\n",
       "    </tr>\n",
       "    <tr>\n",
       "      <th>2</th>\n",
       "      <td>-K_FDDqmOt6hJLTOPgpnlA</td>\n",
       "      <td>2021-07-19</td>\n",
       "      <td>00:28:53</td>\n",
       "    </tr>\n",
       "    <tr>\n",
       "      <th>3</th>\n",
       "      <td>-Pq_I1Dqc7W0xf3A6SJTpQ</td>\n",
       "      <td>2021-01-18</td>\n",
       "      <td>19:31:49</td>\n",
       "    </tr>\n",
       "    <tr>\n",
       "      <th>4</th>\n",
       "      <td>-Pq_I1Dqc7W0xf3A6SJTpQ</td>\n",
       "      <td>2021-05-31</td>\n",
       "      <td>17:26:53</td>\n",
       "    </tr>\n",
       "  </tbody>\n",
       "</table>\n",
       "</div>"
      ],
      "text/plain": [
       "              business_id       date      hour\n",
       "0  -K_FDDqmOt6hJLTOPgpnlA 2021-04-04  00:04:53\n",
       "1  -K_FDDqmOt6hJLTOPgpnlA 2021-06-13  23:23:27\n",
       "2  -K_FDDqmOt6hJLTOPgpnlA 2021-07-19  00:28:53\n",
       "3  -Pq_I1Dqc7W0xf3A6SJTpQ 2021-01-18  19:31:49\n",
       "4  -Pq_I1Dqc7W0xf3A6SJTpQ 2021-05-31  17:26:53"
      ]
     },
     "execution_count": 176,
     "metadata": {},
     "output_type": "execute_result"
    }
   ],
   "source": [
    "# Filtrar las filas a partir del 2021 \n",
    "df_check_in = df_check_in[df_check_in['date'] >= '2020-01-01'].reset_index(drop=True)\n",
    "df_check_in.head()"
   ]
  },
  {
   "cell_type": "code",
   "execution_count": 177,
   "id": "91d2cca7-74b0-4fc1-9f30-8696dd87e56d",
   "metadata": {
    "tags": []
   },
   "outputs": [
    {
     "name": "stdout",
     "output_type": "stream",
     "text": [
      "<class 'pandas.core.frame.DataFrame'>\n",
      "RangeIndex: 2759 entries, 0 to 2758\n",
      "Data columns (total 3 columns):\n",
      " #   Column       Non-Null Count  Dtype         \n",
      "---  ------       --------------  -----         \n",
      " 0   business_id  2759 non-null   object        \n",
      " 1   date         2759 non-null   datetime64[ns]\n",
      " 2   hour         2759 non-null   object        \n",
      "dtypes: datetime64[ns](1), object(2)\n",
      "memory usage: 64.8+ KB\n"
     ]
    }
   ],
   "source": [
    "df_check_in.info()"
   ]
  },
  {
   "cell_type": "code",
   "execution_count": 178,
   "id": "5c2633a1",
   "metadata": {},
   "outputs": [],
   "source": [
    "df_check_in.reset_index(drop=True, inplace=True)"
   ]
  },
  {
   "cell_type": "code",
   "execution_count": 179,
   "id": "46f510cd",
   "metadata": {},
   "outputs": [],
   "source": [
    "# Exportacion de df_check_in como csv\n",
    "df_check_in.to_csv('datasets/procesados/Yelp_check_in_procesado.csv', index=False)"
   ]
  },
  {
   "cell_type": "markdown",
   "id": "c30c1247-77b5-4ad6-8bd6-5e2c4204d08c",
   "metadata": {},
   "source": [
    "# Review"
   ]
  },
  {
   "cell_type": "code",
   "execution_count": 4,
   "id": "6115a4c7",
   "metadata": {},
   "outputs": [],
   "source": [
    "# Path review.jason\n",
    "file_path = os.path.join('datasets/Raw/review.json')\n",
    "\n",
    "# lista para almacenar reviews\n",
    "review_row = []\n",
    "\n",
    "# Filtro de date\n",
    "date_threshold = '2021-00-00 00:00:00'\n",
    "\n",
    "# Abrir archivo JSON comprimido en read-text mode con UTF-8 encoding\n",
    "with open(file_path, 'rt', encoding='utf-8') as file:\n",
    "    # Iterar sobre cada fila del archivo\n",
    "    for line in file.readlines():\n",
    "        # Usar ast.literal_eval para convertit cada linea JSON a Python dict\n",
    "        review = ast.literal_eval(line)\n",
    "        # Aplicar fitros\n",
    "        if review['date'] >= date_threshold:\n",
    "            review_row.append(review)\n",
    "\n",
    "# Crear dataframe con lista de diccionarios\n",
    "df_review = pd.DataFrame(review_row)"
   ]
  },
  {
   "cell_type": "code",
   "execution_count": 3,
   "id": "5dfa19e0",
   "metadata": {},
   "outputs": [],
   "source": [
    "df_business = pd.read_csv('datasets/procesados/Yelp_business_procesado.csv')"
   ]
  },
  {
   "cell_type": "code",
   "execution_count": 6,
   "id": "7680fb97-efe2-4f75-a7c1-230f6ea5385c",
   "metadata": {
    "tags": []
   },
   "outputs": [
    {
     "name": "stdout",
     "output_type": "stream",
     "text": [
      "<class 'pandas.core.frame.DataFrame'>\n",
      "RangeIndex: 649854 entries, 0 to 649853\n",
      "Data columns (total 9 columns):\n",
      " #   Column       Non-Null Count   Dtype  \n",
      "---  ------       --------------   -----  \n",
      " 0   review_id    649854 non-null  object \n",
      " 1   user_id      649854 non-null  object \n",
      " 2   business_id  649854 non-null  object \n",
      " 3   stars        649854 non-null  float64\n",
      " 4   useful       649854 non-null  int64  \n",
      " 5   funny        649854 non-null  int64  \n",
      " 6   cool         649854 non-null  int64  \n",
      " 7   text         649854 non-null  object \n",
      " 8   date         649854 non-null  object \n",
      "dtypes: float64(1), int64(3), object(5)\n",
      "memory usage: 44.6+ MB\n"
     ]
    }
   ],
   "source": [
    "df_review.info()"
   ]
  },
  {
   "cell_type": "code",
   "execution_count": 7,
   "id": "2fe45679-a2a0-4054-a88a-23b15e6acd34",
   "metadata": {
    "tags": []
   },
   "outputs": [],
   "source": [
    "# Filtrar df_review basado en los business_id de df_business\n",
    "df_review = df_review[df_review['business_id'].isin(df_business['business_id'])]"
   ]
  },
  {
   "cell_type": "code",
   "execution_count": 8,
   "id": "6aac302a-2c6e-4d8b-b133-6408a846ddf8",
   "metadata": {
    "tags": []
   },
   "outputs": [],
   "source": [
    "# Renombrar la columna 'date' a 'date_and_hour'\n",
    "df_review.rename(columns={'date': 'date_and_hour'}, inplace=True)\n",
    "\n",
    "# Convertir la columna 'date_and_hour' a formato de cadena de texto\n",
    "df_review['date_and_hour'] = df_review['date_and_hour'].astype(str)\n",
    "\n",
    "# Dividir la columna 'date_and_hour' en dos nuevas columnas: 'date' y 'hour'\n",
    "df_review[['date', 'hour']] = df_review['date_and_hour'].str.split(' ', expand=True)\n",
    "\n",
    "# Convertir las columnas 'date' y 'hour' al formato datetime\n",
    "df_review['date'] = pd.to_datetime(df_review['date'])\n",
    "df_review['hour'] = pd.to_datetime(df_review['hour'], format='%H:%M:%S').dt.time\n",
    "\n",
    "# Eliminar la columna 'date_and_hour'\n",
    "df_review.drop(columns=['date_and_hour'], inplace=True)"
   ]
  },
  {
   "cell_type": "code",
   "execution_count": 9,
   "id": "721a5ad5",
   "metadata": {},
   "outputs": [],
   "source": [
    "# Filtrar las filas a partir del 2021\n",
    "df_review = df_review[df_review['date'] >= '2021-01-01'].reset_index(drop=True)"
   ]
  },
  {
   "cell_type": "code",
   "execution_count": 10,
   "id": "679fff45-c10b-48cb-ba10-4e293b8d0336",
   "metadata": {
    "tags": []
   },
   "outputs": [],
   "source": [
    "# Definir función para obtener la puntuación de sentimiento\n",
    "def get_sentiment_score(text):\n",
    "    if pd.isnull(text) or text == \"\":\n",
    "        return 1  # Valor neutral si el texto está vacío o es NaN\n",
    "    elif isinstance(text, str):\n",
    "        # Crear un objeto TextBlob\n",
    "        blob = TextBlob(text)\n",
    "\n",
    "        # Obtener la puntuación de sentimiento\n",
    "        sentiment_score = blob.sentiment.polarity\n",
    "\n",
    "        # Escalar la puntuación entre 1 y 5\n",
    "        scaled_score = int(round(5 * sentiment_score))\n",
    "\n",
    "        # Asignar la puntuación\n",
    "        if scaled_score <= 2:\n",
    "            return 1\n",
    "        elif scaled_score <= 3:\n",
    "            return 2\n",
    "        elif scaled_score <= 4:\n",
    "            return 3\n",
    "        else:\n",
    "            return 4\n",
    "    else:\n",
    "        return 1  # Valor neutral para datos que no son de tipo cadena"
   ]
  },
  {
   "cell_type": "code",
   "execution_count": 11,
   "id": "4435edc3",
   "metadata": {},
   "outputs": [],
   "source": [
    "\n",
    "# Asegurarse de que la columna 'text' sea de tipo cadena\n",
    "df_review[\"text\"] = df_review[\"text\"].astype(str)\n",
    "\n",
    "# Aplicar la función de análisis de sentimiento a la columna 'text' y crear una nueva columna 'sentiment_analysis'\n",
    "df_review[\"sentiment_analysis\"] = df_review[\"text\"].apply(get_sentiment_score)\n",
    "\n",
    "# Convertir la columna 'sentiment_analysis' al tipo de dato flotante si es necesario\n",
    "df_review[\"sentiment_analysis\"] = df_review[\"sentiment_analysis\"].astype(int)\n",
    "\n",
    "# Elimnar columna 'text'\n",
    "df_review.drop([\"text\"], axis=1, inplace=True)"
   ]
  },
  {
   "cell_type": "code",
   "execution_count": 12,
   "id": "0398c393-7d50-4a2e-b505-ec8c9d3ba5c4",
   "metadata": {
    "tags": []
   },
   "outputs": [
    {
     "name": "stdout",
     "output_type": "stream",
     "text": [
      "Columnas a eliminar:\n",
      "useful\n",
      "funny\n",
      "cool\n"
     ]
    }
   ],
   "source": [
    "# Lista de columnas permitidas en el orden deseado\n",
    "columnas_permitidas = ['review_id', 'user_id', 'business_id', 'stars', 'date', 'hour', 'sentiment_analysis']\n",
    "\n",
    "# Filtrar las columnas que se van a eliminar\n",
    "columnas_a_eliminar = [col for col in df_review.columns if col not in columnas_permitidas]\n",
    "\n",
    "# Imprimir las columnas que se eliminarán\n",
    "print(\"Columnas a eliminar:\")\n",
    "for col in columnas_a_eliminar:\n",
    "    print(col)\n",
    "\n",
    "# Filtrar las columnas permitidas\n",
    "df_review = df_review[columnas_permitidas]"
   ]
  },
  {
   "cell_type": "code",
   "execution_count": 13,
   "id": "65b0f0b0-080b-4b43-845b-3cf10ff06683",
   "metadata": {
    "tags": []
   },
   "outputs": [
    {
     "name": "stdout",
     "output_type": "stream",
     "text": [
      "<class 'pandas.core.frame.DataFrame'>\n",
      "RangeIndex: 3689 entries, 0 to 3688\n",
      "Data columns (total 7 columns):\n",
      " #   Column              Non-Null Count  Dtype         \n",
      "---  ------              --------------  -----         \n",
      " 0   review_id           3689 non-null   object        \n",
      " 1   user_id             3689 non-null   object        \n",
      " 2   business_id         3689 non-null   object        \n",
      " 3   stars               3689 non-null   float64       \n",
      " 4   date                3689 non-null   datetime64[ns]\n",
      " 5   hour                3689 non-null   object        \n",
      " 6   sentiment_analysis  3689 non-null   int32         \n",
      "dtypes: datetime64[ns](1), float64(1), int32(1), object(4)\n",
      "memory usage: 187.5+ KB\n"
     ]
    }
   ],
   "source": [
    "# Verificar la información del DataFrame df_review\n",
    "df_review.info()"
   ]
  },
  {
   "cell_type": "code",
   "execution_count": 14,
   "id": "13323d4b",
   "metadata": {},
   "outputs": [],
   "source": [
    "df_review.reset_index(drop=True, inplace=True)"
   ]
  },
  {
   "cell_type": "code",
   "execution_count": 15,
   "id": "ac99ea3f",
   "metadata": {},
   "outputs": [],
   "source": [
    "# Exportar business dataset como csv\n",
    "df_review.to_csv('datasets/procesados/Yelp_review_procesado.csv', index=False)"
   ]
  }
 ],
 "metadata": {
  "kernelspec": {
   "display_name": "Python 3",
   "language": "python",
   "name": "python3"
  },
  "language_info": {
   "codemirror_mode": {
    "name": "ipython",
    "version": 3
   },
   "file_extension": ".py",
   "mimetype": "text/x-python",
   "name": "python",
   "nbconvert_exporter": "python",
   "pygments_lexer": "ipython3",
   "version": "3.11.8"
  }
 },
 "nbformat": 4,
 "nbformat_minor": 5
}
